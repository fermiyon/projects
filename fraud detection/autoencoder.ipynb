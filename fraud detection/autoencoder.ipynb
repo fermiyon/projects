{
  "cells": [
    {
      "cell_type": "markdown",
      "metadata": {
        "id": "dqbMkIZ-MuHY"
      },
      "source": [
        "---\n",
        "---\n"
      ]
    },
    {
      "cell_type": "markdown",
      "metadata": {
        "id": "UXiSchQo4ruQ"
      },
      "source": [
        "# Credit Card Fraud Prediction"
      ]
    },
    {
      "cell_type": "markdown",
      "metadata": {
        "id": "spCFDhO7MuHY"
      },
      "source": [
        "# #Determines\n",
        "The datasets contains transactions made by credit cards in September 2013 by european cardholders. This dataset presents transactions that occurred in two days, where it has **492 frauds** out of **284,807** transactions. The dataset is **highly unbalanced**, the positive class (frauds) account for 0.172% of all transactions.\n",
        "\n",
        "**Feature Information:**\n",
        "\n",
        "**Time**: This feature is contains the seconds elapsed between each transaction and the first transaction in the dataset.\n",
        "\n",
        "**Amount**:  This feature is the transaction Amount, can be used for example-dependant cost-senstive learning.\n",
        "\n",
        "**Class**: This feature is the target variable and it takes value 1 in case of fraud and 0 otherwise.\n",
        "\n",
        "---\n",
        "\n",
        "The aim of this project is to predict whether a credit card transaction is fraudulent. Of course, this is not easy to do.\n",
        "First of all, you need to analyze and recognize your data well in order to draw your roadmap and choose the correct arguments you will use. Accordingly, you can examine the frequency distributions of variables. You can observe variable correlations and want to explore multicollinearity. You can display the distribution of the target variable's classes over other variables.\n",
        "Also, it is useful to take missing values and outliers.\n",
        "\n",
        "After these procedures, you can move on to the model building stage by doing the basic data pre-processing you are familiar with.\n",
        "\n",
        "Start with Logistic Regression and evaluate model performance. You will apply the Unbalanced Data Techniques used to increase the performance. Next, observe their effects.\n",
        "\n",
        "Then, you will use four different algorithms in the model building phase.\n",
        "\n",
        "In the final step, you will deploy your model using ***Streamlit API***."
      ]
    },
    {
      "cell_type": "markdown",
      "metadata": {
        "id": "YOl6z9mXMuHY"
      },
      "source": [
        "---\n",
        "---\n"
      ]
    },
    {
      "cell_type": "markdown",
      "metadata": {
        "id": "1o6X3hLLMuHZ"
      },
      "source": [
        "# #Tasks\n",
        "\n",
        "#### 1. Exploratory Data Analysis & Data Cleaning\n",
        "\n",
        "- Import Modules, Load Data & Data Review\n",
        "- Apply data integrity checks\n",
        "- Exploratory Data Analysis\n",
        "- Data Cleaning\n",
        "    \n",
        "#### 2. Data Preprocessing\n",
        "\n",
        "- Train - Test Split\n",
        "- Train - Test Split Validation Checks\n",
        "- Scaling\n",
        "\n",
        "#### 3. Model Building\n",
        "\n",
        "- Logistic Regression\n",
        "- Random Forest Classifier\n",
        "- XGBoost Classifier\n",
        "- Neural Network\n",
        "-\n",
        "\n",
        "#### 4. Model Deployement\n",
        "\n",
        "- Save and Export the Best Model\n",
        "- Save and Export Variables\n",
        "\n",
        "\n"
      ]
    },
    {
      "cell_type": "markdown",
      "metadata": {
        "id": "9sDSWJywMuHZ"
      },
      "source": [
        "---\n",
        "---\n"
      ]
    },
    {
      "cell_type": "code",
      "execution_count": null,
      "metadata": {
        "id": "H2dKXrnL4ruT"
      },
      "outputs": [],
      "source": [
        "# !pip install livelossplot"
      ]
    },
    {
      "cell_type": "markdown",
      "metadata": {
        "id": "fbFMU3AdMuHZ"
      },
      "source": [
        "## 1. Exploratory Data Analysis & Data Cleaning"
      ]
    },
    {
      "cell_type": "markdown",
      "metadata": {
        "id": "5nmI08_GMuHZ"
      },
      "source": [
        "### Import Modules, Load Data & Data Review"
      ]
    },
    {
      "cell_type": "code",
      "execution_count": null,
      "metadata": {
        "colab": {
          "base_uri": "https://localhost:8080/",
          "height": 17
        },
        "id": "yKZtJybfMuHa",
        "outputId": "bd744925-6826-4f53-bcd4-07b75f9ee0bc"
      },
      "outputs": [
        {
          "output_type": "display_data",
          "data": {
            "text/html": [
              "        <script type=\"text/javascript\">\n",
              "        window.PlotlyConfig = {MathJaxConfig: 'local'};\n",
              "        if (window.MathJax && window.MathJax.Hub && window.MathJax.Hub.Config) {window.MathJax.Hub.Config({SVG: {font: \"STIX-Web\"}});}\n",
              "        if (typeof require !== 'undefined') {\n",
              "        require.undef(\"plotly\");\n",
              "        requirejs.config({\n",
              "            paths: {\n",
              "                'plotly': ['https://cdn.plot.ly/plotly-2.18.2.min']\n",
              "            }\n",
              "        });\n",
              "        require(['plotly'], function(Plotly) {\n",
              "            window._Plotly = Plotly;\n",
              "        });\n",
              "        }\n",
              "        </script>\n",
              "        "
            ]
          },
          "metadata": {}
        },
        {
          "output_type": "display_data",
          "data": {
            "text/html": [
              "        <script type=\"text/javascript\">\n",
              "        window.PlotlyConfig = {MathJaxConfig: 'local'};\n",
              "        if (window.MathJax && window.MathJax.Hub && window.MathJax.Hub.Config) {window.MathJax.Hub.Config({SVG: {font: \"STIX-Web\"}});}\n",
              "        if (typeof require !== 'undefined') {\n",
              "        require.undef(\"plotly\");\n",
              "        requirejs.config({\n",
              "            paths: {\n",
              "                'plotly': ['https://cdn.plot.ly/plotly-2.18.2.min']\n",
              "            }\n",
              "        });\n",
              "        require(['plotly'], function(Plotly) {\n",
              "            window._Plotly = Plotly;\n",
              "        });\n",
              "        }\n",
              "        </script>\n",
              "        "
            ]
          },
          "metadata": {}
        }
      ],
      "source": [
        "# libraries for EDA\n",
        "import numpy as np\n",
        "import time\n",
        "import pandas as pd\n",
        "import matplotlib.pyplot as plt\n",
        "import seaborn as sns\n",
        "import plotly\n",
        "import plotly.express as px\n",
        "import cufflinks as cf\n",
        "\n",
        "# Enabling the offline mode for interactive plotting locally\n",
        "from plotly.offline import download_plotlyjs,init_notebook_mode,plot,iplot\n",
        "init_notebook_mode(connected=True)\n",
        "cf.go_offline()\n",
        "\n",
        "# To display the plots\n",
        "%matplotlib inline\n",
        "\n",
        "# sklearn library for machine learning algorithms, data preprocessing, and evaluation\n",
        "from sklearn.preprocessing import StandardScaler, MinMaxScaler, RobustScaler, PowerTransformer\n",
        "from sklearn.model_selection import train_test_split, GridSearchCV, cross_validate, cross_val_score, StratifiedKFold\n",
        "from sklearn.base import BaseEstimator, TransformerMixin\n",
        "\n",
        "from sklearn.metrics import PrecisionRecallDisplay, average_precision_score, RocCurveDisplay, f1_score, recall_score, precision_score, confusion_matrix, classification_report, matthews_corrcoef\n",
        "\n",
        "from sklearn.compose import make_column_transformer, ColumnTransformer\n",
        "from sklearn.preprocessing import FunctionTransformer\n",
        "\n",
        "# Importing libraries for DL\n",
        "import tensorflow as tf\n",
        "from tensorflow.keras.models import Sequential\n",
        "from tensorflow.keras.layers import Dense, Activation, BatchNormalization, ActivityRegularization, Dropout\n",
        "from tensorflow.keras.callbacks import EarlyStopping, ModelCheckpoint\n",
        "from tensorflow.keras.optimizers import Adam\n",
        "\n",
        "from livelossplot import PlotLossesKerasTF\n",
        "\n",
        "#  Display options\n",
        "# plt.rcParams[\"figure.figsize\"] = (20,6)\n",
        "# pd.set_option('max_colwidth',200)\n",
        "# pd.set_option('display.max_rows', 1000)\n",
        "pd.set_option('display.max_columns', 50)\n",
        "pd.set_option('display.float_format', lambda x: '%.3f' % x)\n",
        "\n",
        "# to get rid of the warnings\n",
        "import warnings\n",
        "warnings.filterwarnings(\"ignore\")\n",
        "warnings.warn(\"this will not show\")"
      ]
    },
    {
      "cell_type": "code",
      "execution_count": null,
      "metadata": {
        "colab": {
          "base_uri": "https://localhost:8080/"
        },
        "id": "wk6Rk0fOiqMg",
        "outputId": "9cf8fc80-35df-4e2e-bcd5-a2a24fcc4bda"
      },
      "outputs": [
        {
          "output_type": "stream",
          "name": "stdout",
          "text": [
            "Num GPUs Available:  0\n"
          ]
        }
      ],
      "source": [
        "print(\"Num GPUs Available: \", len(tf.config.list_physical_devices('GPU')))"
      ]
    },
    {
      "cell_type": "code",
      "execution_count": null,
      "metadata": {
        "colab": {
          "base_uri": "https://localhost:8080/"
        },
        "id": "ZOvezaHg4ruY",
        "outputId": "f730abc8-ee53-4d9a-f83a-117de92ae2c6"
      },
      "outputs": [
        {
          "output_type": "stream",
          "name": "stdout",
          "text": [
            "Drive already mounted at /content/drive; to attempt to forcibly remount, call drive.mount(\"/content/drive\", force_remount=True).\n"
          ]
        }
      ],
      "source": [
        "# read the data\n",
        "from google.colab import drive\n",
        "drive.mount('/content/drive')"
      ]
    },
    {
      "cell_type": "code",
      "execution_count": null,
      "metadata": {
        "id": "AFJScY1o7zji"
      },
      "outputs": [],
      "source": [
        "# df = pd.read_csv('creditcard.csv')\n",
        "df = pd.read_csv('/content/drive/MyDrive/fraud-detection/creditcard.csv')"
      ]
    },
    {
      "cell_type": "code",
      "execution_count": null,
      "metadata": {
        "id": "bTnGG9b-4ruZ"
      },
      "outputs": [],
      "source": [
        "# create a deep copy\n",
        "df0 = df.copy()"
      ]
    },
    {
      "cell_type": "code",
      "execution_count": null,
      "metadata": {
        "id": "7PKg3axDyZQA"
      },
      "outputs": [],
      "source": [
        "class OutlierCapping(BaseEstimator, TransformerMixin):\n",
        "    def __init__(self, factor=1.5):\n",
        "        self.factor = factor\n",
        "        self.lower_bound = None\n",
        "        self.upper_bound = None\n",
        "\n",
        "    def fit(self, X, y=None):\n",
        "        X = X # pd.DataFrame(X)\n",
        "        self.lower_bound = X.quantile(0.25) - self.factor * (X.quantile(0.75) - X.quantile(0.25))\n",
        "        self.upper_bound = X.quantile(0.75) + self.factor * (X.quantile(0.75) - X.quantile(0.25))\n",
        "        return self\n",
        "\n",
        "    def transform(self, X, y=None):\n",
        "        X = X # pd.DataFrame(X)\n",
        "        X_capped = X.clip(lower=self.lower_bound, upper=self.upper_bound, axis=1)\n",
        "        return X_capped"
      ]
    },
    {
      "cell_type": "markdown",
      "metadata": {
        "id": "-yobe-DRITrl"
      },
      "source": [
        "#### Autoencoder Anomaly Detection"
      ]
    },
    {
      "cell_type": "markdown",
      "metadata": {
        "id": "1nK5lP5IIFou"
      },
      "source": [
        "***i. Import Libraries***"
      ]
    },
    {
      "cell_type": "code",
      "execution_count": null,
      "metadata": {
        "id": "PmPlKZVIVqce"
      },
      "outputs": [],
      "source": [
        "df_anomaly = df0[df0.Class == 1]\n",
        "df_normal = df0[df0.Class == 0]"
      ]
    },
    {
      "cell_type": "code",
      "execution_count": null,
      "metadata": {
        "id": "aZZum5D3Fo4v"
      },
      "outputs": [],
      "source": [
        "# Removing Time columns because of the cardinality.\n",
        "df_normal.drop(columns=['Time'],inplace=True)\n",
        "df_anomaly.drop(columns=['Time'],inplace=True)"
      ]
    },
    {
      "cell_type": "code",
      "execution_count": null,
      "metadata": {
        "colab": {
          "base_uri": "https://localhost:8080/",
          "height": 86
        },
        "id": "nurOEridw691",
        "outputId": "e7042d22-cc70-40f5-9ccd-66d0ad9b5adb"
      },
      "outputs": [
        {
          "output_type": "display_data",
          "data": {
            "text/plain": [
              "(284315, 30)"
            ]
          },
          "metadata": {}
        },
        {
          "output_type": "display_data",
          "data": {
            "text/plain": [
              "(275190, 30)"
            ]
          },
          "metadata": {}
        },
        {
          "output_type": "display_data",
          "data": {
            "text/plain": [
              "(492, 30)"
            ]
          },
          "metadata": {}
        },
        {
          "output_type": "display_data",
          "data": {
            "text/plain": [
              "(473, 30)"
            ]
          },
          "metadata": {}
        }
      ],
      "source": [
        "display(df_normal.shape)\n",
        "df_normal.drop_duplicates(inplace=True)\n",
        "df_normal.reset_index(drop=True,inplace=True)\n",
        "display(df_normal.shape)\n",
        "\n",
        "display(df_anomaly.shape)\n",
        "df_anomaly.drop_duplicates(inplace=True)\n",
        "df_anomaly.reset_index(drop=True,inplace=True)\n",
        "display(df_anomaly.shape)"
      ]
    },
    {
      "cell_type": "code",
      "execution_count": null,
      "metadata": {
        "colab": {
          "base_uri": "https://localhost:8080/",
          "height": 52
        },
        "id": "LCeNuGclV-hI",
        "outputId": "de8460c0-3662-483e-e50b-613725b52c35"
      },
      "outputs": [
        {
          "output_type": "display_data",
          "data": {
            "text/plain": [
              "16.866718730563512"
            ]
          },
          "metadata": {}
        },
        {
          "output_type": "display_data",
          "data": {
            "text/plain": [
              "0.1395260148138248"
            ]
          },
          "metadata": {}
        }
      ],
      "source": [
        "# Applying log transformation to the Amount column since it is highly right-skewed.\n",
        "# We are using np.log1p since the Amount column minimum is 0.\n",
        "display(df_normal.Amount.skew())\n",
        "df_normal['Amount'] = np.log1p(df_normal['Amount'])\n",
        "display(df_normal.Amount.skew())"
      ]
    },
    {
      "cell_type": "code",
      "execution_count": null,
      "metadata": {
        "colab": {
          "base_uri": "https://localhost:8080/",
          "height": 52
        },
        "id": "KEhsSU8BWLJg",
        "outputId": "3fec64c3-3e1f-4bb9-fd93-46266913aeb8"
      },
      "outputs": [
        {
          "output_type": "display_data",
          "data": {
            "text/plain": [
              "3.7244782527095226"
            ]
          },
          "metadata": {}
        },
        {
          "output_type": "display_data",
          "data": {
            "text/plain": [
              "0.30783741384828084"
            ]
          },
          "metadata": {}
        }
      ],
      "source": [
        "display(df_anomaly.Amount.skew())\n",
        "df_anomaly['Amount'] = np.log1p(df_anomaly['Amount'])\n",
        "display(df_anomaly.Amount.skew())"
      ]
    },
    {
      "cell_type": "code",
      "execution_count": null,
      "metadata": {
        "id": "ZSdxoLAPIFo6"
      },
      "outputs": [],
      "source": [
        "# We only use non_fraud data to train our Autoencoder\n",
        "# split the features and target\n",
        "X = df_normal.drop('Class', axis=1)\n",
        "y = df_normal['Class'].values"
      ]
    },
    {
      "cell_type": "code",
      "execution_count": null,
      "metadata": {
        "id": "1txjqtRvIFo6"
      },
      "outputs": [],
      "source": [
        "# split the data as train, validation and test data\n",
        "X_train, X_test, y_train, y_test = train_test_split(X,\n",
        "                                                    y,\n",
        "                                                    # stratify=y,\n",
        "                                                    test_size=0.15,\n",
        "                                                    random_state=42)\n",
        "X_train, X_val, y_train, y_val = train_test_split(X_train,\n",
        "                                                  y_train,\n",
        "                                                  # stratify=y_train,\n",
        "                                                  test_size=0.1,\n",
        "                                                  random_state=42)"
      ]
    },
    {
      "cell_type": "code",
      "execution_count": null,
      "metadata": {
        "id": "8sM-aB63b-fU"
      },
      "outputs": [],
      "source": [
        "capper = OutlierCapping(factor=3)\n",
        "# scale the data; fit_transform for train, transform val and test\n",
        "X_train = capper.fit_transform(X_train)\n",
        "X_val = capper.transform(X_val)\n",
        "X_test = capper.transform(X_test)"
      ]
    },
    {
      "cell_type": "code",
      "execution_count": null,
      "metadata": {
        "id": "18zgu2GRIFo7"
      },
      "outputs": [],
      "source": [
        "# RobutScaler and StandardScaler did not give good results.\n",
        "scaler = MinMaxScaler()\n",
        "# scale the data; fit_transform for train, transform val and test\n",
        "X_train = scaler.fit_transform(X_train)\n",
        "X_val = scaler.transform(X_val)\n",
        "X_test = scaler.transform(X_test)"
      ]
    },
    {
      "cell_type": "code",
      "execution_count": null,
      "metadata": {
        "id": "uU-l7zIKKMV1"
      },
      "outputs": [],
      "source": [
        "X_anomaly = df_anomaly.drop('Class', axis=1)"
      ]
    },
    {
      "cell_type": "code",
      "execution_count": null,
      "metadata": {
        "id": "jRZ6jlZ8KTed"
      },
      "outputs": [],
      "source": [
        "X_anomaly = capper.transform(X_anomaly)\n",
        "X_anomaly = scaler.transform(X_anomaly)"
      ]
    },
    {
      "cell_type": "markdown",
      "metadata": {
        "id": "W5ryQmucIFo7"
      },
      "source": [
        "***ii. Define Model***"
      ]
    },
    {
      "cell_type": "code",
      "execution_count": null,
      "metadata": {
        "id": "KuGXxMwfIFo7"
      },
      "outputs": [],
      "source": [
        "class AnomalyDetector(tf.keras.Model):\n",
        "    \"\"\"\n",
        "    Autoencoder model.\n",
        "\n",
        "    Args:\n",
        "        n_features: The number of features in the input data.\n",
        "    \"\"\"\n",
        "\n",
        "    def __init__(self, n_features):\n",
        "        super(AnomalyDetector, self).__init__()\n",
        "        self.encoder = tf.keras.Sequential([\n",
        "            tf.keras.layers.Dense(64, activation=\"elu\", name=\"encoder_2\"),\n",
        "            tf.keras.layers.Dense(32, activation=\"elu\", name=\"encoder_3\"),\n",
        "            tf.keras.layers.Dense(16, activation=\"elu\", name=\"encoder_4\"),\n",
        "            tf.keras.layers.Dense(8, activation=\"elu\", name=\"encoder_5\"),\n",
        "            ActivityRegularization(l1=1e-3)\n",
        "        ])\n",
        "\n",
        "        self.decoder = tf.keras.Sequential([\n",
        "            tf.keras.layers.Dense(8, activation=\"elu\", name=\"decoder_1\"),\n",
        "            tf.keras.layers.Dense(16, activation=\"elu\", name=\"decoder_2\"),\n",
        "            tf.keras.layers.Dense(32, activation=\"elu\", name=\"decoder_3\"),\n",
        "            tf.keras.layers.Dense(64, activation=\"elu\", name=\"decoder_4\"),\n",
        "            tf.keras.layers.Dense(n_features, activation=\"relu\", name=\"decoder_5\"),\n",
        "        ])\n",
        "\n",
        "    def call(self, x):\n",
        "        encoded = self.encoder(x)\n",
        "        decoded = self.decoder(encoded)\n",
        "        return decoded"
      ]
    },
    {
      "cell_type": "code",
      "execution_count": null,
      "metadata": {
        "id": "WWifAV7YG1DA"
      },
      "outputs": [],
      "source": [
        "class AnomalyDetector2(tf.keras.Model):\n",
        "    def __init__(self, n_features):\n",
        "        super(AnomalyDetector2, self).__init__()\n",
        "        self.encoder = tf.keras.Sequential([\n",
        "            Dense(16, activation=\"elu\"),\n",
        "            Dense(8, activation=\"elu\"),\n",
        "            Dense(4, activation=\"elu\"),\n",
        "            Dense(2, activation=\"elu\"),\n",
        "            ActivityRegularization(l1=1e-3)])\n",
        "\n",
        "        self.decoder = tf.keras.Sequential([\n",
        "            Dense(2, activation=\"elu\"),\n",
        "            Dense(4, activation=\"elu\"),\n",
        "            Dense(8, activation=\"elu\"),\n",
        "            Dense(16, activation=\"elu\"),\n",
        "            Dense(n_features, activation=\"elu\")])\n",
        "\n",
        "    def call(self, x):\n",
        "        encoded = self.encoder(x)\n",
        "        decoded = self.decoder(encoded)\n",
        "        return decoded"
      ]
    },
    {
      "cell_type": "code",
      "execution_count": null,
      "metadata": {
        "id": "68J38nAhHiF5"
      },
      "outputs": [],
      "source": [
        "n_features = len(X.columns)"
      ]
    },
    {
      "cell_type": "code",
      "execution_count": null,
      "metadata": {
        "colab": {
          "base_uri": "https://localhost:8080/"
        },
        "id": "-HWrpMLDHs8g",
        "outputId": "822d81a8-a1a0-48f6-d0c8-ceceff5af63c"
      },
      "outputs": [
        {
          "output_type": "execute_result",
          "data": {
            "text/plain": [
              "29"
            ]
          },
          "metadata": {},
          "execution_count": 22
        }
      ],
      "source": [
        "n_features"
      ]
    },
    {
      "cell_type": "code",
      "execution_count": null,
      "metadata": {
        "id": "HXKkSZWrIFo7"
      },
      "outputs": [],
      "source": [
        "autoencoder = AnomalyDetector(n_features)\n",
        "opt = tf.keras.optimizers.Adam(learning_rate=0.001)"
      ]
    },
    {
      "cell_type": "markdown",
      "metadata": {
        "id": "F9iH9-LOIFo8"
      },
      "source": [
        "***iii. Compile Model***"
      ]
    },
    {
      "cell_type": "code",
      "execution_count": null,
      "metadata": {
        "id": "l3HC9gW3IFo8"
      },
      "outputs": [],
      "source": [
        "autoencoder.compile(\n",
        "    optimizer=opt,\n",
        "    loss=\"mean_squared_error\")\n",
        "earlystopper = EarlyStopping(monitor='val_loss', patience=5, verbose=1, restore_best_weights=True)"
      ]
    },
    {
      "cell_type": "markdown",
      "metadata": {
        "id": "nwP88UWUIFo9"
      },
      "source": [
        "***iv. Fit Model***"
      ]
    },
    {
      "cell_type": "code",
      "execution_count": null,
      "metadata": {
        "colab": {
          "base_uri": "https://localhost:8080/",
          "height": 894
        },
        "id": "LTVD6MAqIFo9",
        "outputId": "7c97d70b-0abf-4f14-dff9-d965bd3223b8"
      },
      "outputs": [
        {
          "output_type": "display_data",
          "data": {
            "text/plain": [
              "<Figure size 1200x800 with 2 Axes>"
            ],
            "image/png": "[encoded data removed]"
          },
          "metadata": {}
        },
        {
          "output_type": "stream",
          "name": "stdout",
          "text": [
            "Loss\n",
            "\ttraining         \t (min:    0.003, max:    0.031, cur:    0.003)\n",
            "\tvalidation       \t (min:    0.003, max:    0.019, cur:    0.003)\n",
            "\b\b\b\b\b\b\b\b\b\b\b\b\b\b\b\b\b\b\b\b\b\b\b\b\b\b\b\b\b\b\b\b\b\b\b\b\b\b\b\b\b\b\b\b\b\b\b\b\b\b\b\b\b\b\b\b\b\b\b\b\b\b\b\b\b\b\b\r1645/1645 [==============================] - 8s 5ms/step - loss: 0.0027 - val_loss: 0.0027\n",
            "Epoch 125: early stopping\n"
          ]
        }
      ],
      "source": [
        "history = autoencoder.fit(\n",
        "        X_train,\n",
        "        X_train,\n",
        "        epochs=1000,\n",
        "        batch_size=128,\n",
        "        validation_data=(X_val, X_val),\n",
        "        verbose = 1,\n",
        "        callbacks=[earlystopper, PlotLossesKerasTF()],\n",
        "        shuffle=True)"
      ]
    },
    {
      "cell_type": "markdown",
      "metadata": {
        "id": "vs2fH8nGIFo9"
      },
      "source": [
        "***v. Prediction and Model Evaluating***"
      ]
    },
    {
      "cell_type": "code",
      "execution_count": null,
      "metadata": {
        "colab": {
          "base_uri": "https://localhost:8080/",
          "height": 447
        },
        "id": "ScI9hv6SIFo9",
        "outputId": "927b8a9d-6611-448d-b75c-31a3d65fa198"
      },
      "outputs": [
        {
          "output_type": "execute_result",
          "data": {
            "text/plain": [
              "<Axes: >"
            ]
          },
          "metadata": {},
          "execution_count": 26
        },
        {
          "output_type": "display_data",
          "data": {
            "text/plain": [
              "<Figure size 640x480 with 1 Axes>"
            ],
            "image/png": "[encoded data removed]"
          },
          "metadata": {}
        }
      ],
      "source": [
        "loss_df = pd.DataFrame(autoencoder.history.history)\n",
        "loss_df.plot()"
      ]
    },
    {
      "cell_type": "code",
      "execution_count": null,
      "metadata": {
        "colab": {
          "base_uri": "https://localhost:8080/"
        },
        "id": "4tiCp9miJttv",
        "outputId": "901d2be2-aace-4e2d-f7ec-13622dfb2135"
      },
      "outputs": [
        {
          "output_type": "stream",
          "name": "stdout",
          "text": [
            "6579/6579 [==============================] - 12s 2ms/step\n"
          ]
        }
      ],
      "source": [
        "train_data_predictions = autoencoder.predict(X_train)   # predict reconstruction\n",
        "mse_train = np.mean(np.power(X_train- train_data_predictions, 2), axis=1)   # calculates MSE between test data and reconstruction"
      ]
    },
    {
      "cell_type": "code",
      "execution_count": null,
      "metadata": {
        "colab": {
          "base_uri": "https://localhost:8080/"
        },
        "id": "hjHfFQ6gdSfC",
        "outputId": "5245d166-269e-48d8-dc3f-83f3b77a7140"
      },
      "outputs": [
        {
          "output_type": "stream",
          "name": "stdout",
          "text": [
            "1290/1290 [==============================] - 2s 2ms/step\n"
          ]
        }
      ],
      "source": [
        "test_data_predictions = autoencoder.predict(X_test)   # predict reconstruction\n",
        "mse_test = np.mean(np.power(X_test- test_data_predictions, 2), axis=1)   # calculates MSE between test data and reconstruction"
      ]
    },
    {
      "cell_type": "code",
      "execution_count": null,
      "metadata": {
        "colab": {
          "base_uri": "https://localhost:8080/"
        },
        "id": "NHTSsj79KCFE",
        "outputId": "b120a6fa-e2e3-4470-936e-fad357439b13"
      },
      "outputs": [
        {
          "output_type": "stream",
          "name": "stdout",
          "text": [
            "15/15 [==============================] - 0s 2ms/step\n"
          ]
        }
      ],
      "source": [
        "anomaly_data_predictions = autoencoder.predict(X_anomaly)   # predict reconstruction\n",
        "mse_anomaly = np.mean(np.power(X_anomaly - anomaly_data_predictions, 2), axis=1)   # calculates MSE between anomaly data and reconstruction"
      ]
    },
    {
      "cell_type": "code",
      "execution_count": null,
      "metadata": {
        "id": "1YaOKRhbKpyM"
      },
      "outputs": [],
      "source": [
        "df_mse_train = pd.DataFrame(mse_train)\n",
        "df_mse_train['Class'] = 0"
      ]
    },
    {
      "cell_type": "code",
      "execution_count": null,
      "metadata": {
        "id": "PCycTbs8dsYs"
      },
      "outputs": [],
      "source": [
        "df_mse_test = pd.DataFrame(mse_test)\n",
        "df_mse_test['Class'] = 0"
      ]
    },
    {
      "cell_type": "code",
      "execution_count": null,
      "metadata": {
        "id": "8weeeAU-Lel5"
      },
      "outputs": [],
      "source": [
        "df_mse_anomaly = pd.DataFrame(mse_anomaly)\n",
        "df_mse_anomaly['Class'] = 1"
      ]
    },
    {
      "cell_type": "markdown",
      "metadata": {
        "id": "Cx89EIXtg7-w"
      },
      "source": [
        "##### Train - Anomaly"
      ]
    },
    {
      "cell_type": "code",
      "execution_count": null,
      "metadata": {
        "id": "QilMI57wg7-x"
      },
      "outputs": [],
      "source": [
        "df_autoencoder_predictions = pd.concat([df_mse_anomaly,df_mse_train])"
      ]
    },
    {
      "cell_type": "code",
      "execution_count": null,
      "metadata": {
        "id": "SKhwAfvRg7-x"
      },
      "outputs": [],
      "source": [
        "df_autoencoder_predictions.reset_index(drop=True,inplace=True)\n",
        "df_autoencoder_predictions.rename(columns={0: 'MSE'}, inplace=True)"
      ]
    },
    {
      "cell_type": "code",
      "execution_count": null,
      "metadata": {
        "colab": {
          "base_uri": "https://localhost:8080/",
          "height": 449
        },
        "id": "JVEtbxctg7-y",
        "outputId": "228b6b06-5c06-4dd7-fce8-066ecce6cdfc"
      },
      "outputs": [
        {
          "output_type": "display_data",
          "data": {
            "text/plain": [
              "<Figure size 640x480 with 1 Axes>"
            ],
            "image/png": "[encoded data removed]"
          },
          "metadata": {}
        }
      ],
      "source": [
        "sns.histplot(df_autoencoder_predictions, x='MSE', bins=50, hue='Class', stat='density', common_norm=False, kde=True, kde_kws=dict(cut=3), alpha=.4, palette='seismic', edgecolor=(1, 1, 1, .4));\n"
      ]
    },
    {
      "cell_type": "code",
      "execution_count": null,
      "metadata": {
        "colab": {
          "base_uri": "https://localhost:8080/",
          "height": 466
        },
        "id": "O3C0Y7eng7-y",
        "outputId": "ae5ec6d2-aec8-45a2-cfe9-5fe2a0c06590"
      },
      "outputs": [
        {
          "output_type": "execute_result",
          "data": {
            "text/plain": [
              "<Axes: xlabel='Class', ylabel='MSE'>"
            ]
          },
          "metadata": {},
          "execution_count": 36
        },
        {
          "output_type": "display_data",
          "data": {
            "text/plain": [
              "<Figure size 640x480 with 1 Axes>"
            ],
            "image/png": "[encoded data removed]"
          },
          "metadata": {}
        }
      ],
      "source": [
        " sns.boxplot(x=\"Class\", y='MSE', data=df_autoencoder_predictions, palette='seismic', whis =3)"
      ]
    },
    {
      "cell_type": "code",
      "execution_count": null,
      "metadata": {
        "colab": {
          "base_uri": "https://localhost:8080/"
        },
        "id": "GHgEjQ9eg7-y",
        "outputId": "3ce7ae25-1622-4f11-bee5-36b94a518d89"
      },
      "outputs": [
        {
          "output_type": "execute_result",
          "data": {
            "text/plain": [
              "0.0020176895850855035"
            ]
          },
          "metadata": {},
          "execution_count": 37
        }
      ],
      "source": [
        "np.percentile(mse_anomaly,5)"
      ]
    },
    {
      "cell_type": "code",
      "execution_count": null,
      "metadata": {
        "id": "1q2mltOJg7-z"
      },
      "outputs": [],
      "source": [
        "import plotly.graph_objects as go\n",
        "\n",
        "# Generate thresholds\n",
        "thresholds = np.linspace(0, mse_anomaly.mean(), num=150)\n",
        "\n",
        "# Calculate AP, precision, and recall scores for each threshold\n",
        "f1_scores = []\n",
        "precision_scores = []\n",
        "recall_scores = []\n",
        "\n",
        "for threshold in thresholds:\n",
        "    df_autoencoder_predictions['predicted'] = df_autoencoder_predictions['MSE'].apply(lambda x: 1 if x > threshold else 0)\n",
        "    y_true = df_autoencoder_predictions['Class']\n",
        "    y_pred = df_autoencoder_predictions['predicted']\n",
        "\n",
        "    f1 = f1_score(y_true, y_pred)\n",
        "    precision = precision_score(y_true, y_pred)\n",
        "    recall = recall_score(y_true, y_pred)\n",
        "\n",
        "    f1_scores.append(f1)\n",
        "    precision_scores.append(precision)\n",
        "    recall_scores.append(recall)\n",
        "\n",
        "df_scores = pd.DataFrame({'Threshold': thresholds,\n",
        "                          'F1 Score': f1_scores,\n",
        "                          'Precision': precision_scores,\n",
        "                          'Recall': recall_scores})"
      ]
    },
    {
      "cell_type": "code",
      "execution_count": null,
      "metadata": {
        "colab": {
          "base_uri": "https://localhost:8080/",
          "height": 517
        },
        "id": "obpknqhlg7-z",
        "outputId": "20ea36f6-deb7-4442-c484-7aec96312dd0"
      },
      "outputs": [
        {
          "output_type": "display_data",
          "data": {
            "text/html": [
              "<html>\n",
              "<head><meta charset=\"utf-8\" /></head>\n",
              "<body>\n",
              "    <div>            <script src=\"https://cdnjs.cloudflare.com/ajax/libs/mathjax/2.7.5/MathJax.js?config=TeX-AMS-MML_SVG\"></script><script type=\"text/javascript\">if (window.MathJax && window.MathJax.Hub && window.MathJax.Hub.Config) {window.MathJax.Hub.Config({SVG: {font: \"STIX-Web\"}});}</script>                <script type=\"text/javascript\">window.PlotlyConfig = {MathJaxConfig: 'local'};</script>\n",
              "        <script src=\"https://cdn.plot.ly/plotly-2.18.2.min.js\"></script>                <div id=\"58177f4d-3036-4c95-a88d-462c0cea700a\" class=\"plotly-graph-div\" style=\"height:500px; width:800px;\"></div>            <script type=\"text/javascript\">                                    window.PLOTLYENV=window.PLOTLYENV || {};                                    if (document.getElementById(\"58177f4d-3036-4c95-a88d-462c0cea700a\")) {                    Plotly.newPlot(                        \"58177f4d-3036-4c95-a88d-462c0cea700a\",                        [{\"mode\":\"lines\",\"name\":\"F1 Score\",\"x\":[0.0,0.0005377956726318717,0.0010755913452637435,0.001613387017895615,0.002151182690527487,0.0026889783631593588,0.00322677403579123,0.003764569708423102,0.004302365381054974,0.004840161053686846,0.0053779567263187176,0.005915752398950589,0.00645354807158246,0.006991343744214332,0.007529139416846204,0.008066935089478077,0.008604730762109948,0.009142526434741819,0.009680322107373691,0.010218117780005562,0.010755913452637435,0.011293709125269306,0.011831504797901179,0.01236930047053305,0.01290709614316492,0.013444891815796793,0.013982687488428664,0.014520483161060537,0.015058278833692408,0.01559607450632428,0.016133870178956154,0.016671665851588024,0.017209461524219895,0.017747257196851766,0.018285052869483637,0.018822848542115512,0.019360644214747383,0.019898439887379254,0.020436235560011125,0.020974031232643,0.02151182690527487,0.02204962257790674,0.022587418250538612,0.023125213923170483,0.023663009595802358,0.02420080526843423,0.0247386009410661,0.02527639661369797,0.02581419228632984,0.026351987958961716,0.026889783631593587,0.027427579304225458,0.02796537497685733,0.028503170649489203,0.029040966322121074,0.029578761994752945,0.030116557667384816,0.030654353340016687,0.03119214901264856,0.03172994468528043,0.03226774035791231,0.032805536030544175,0.03334333170317605,0.033881127375807917,0.03441892304843979,0.034956718721071665,0.03549451439370353,0.03603231006633541,0.036570105738967275,0.03710790141159915,0.037645697084231024,0.03818349275686289,0.038721288429494766,0.03925908410212663,0.03979687977475851,0.04033467544739038,0.04087247112002225,0.041410266792654124,0.041948062465286,0.042485858137917866,0.04302365381054974,0.04356144948318161,0.04409924515581348,0.04463704082844536,0.045174836501077224,0.0457126321737091,0.046250427846340966,0.04678822351897284,0.047326019191604715,0.04786381486423658,0.04840161053686846,0.048939406209500325,0.0494772018821322,0.050014997554764073,0.05055279322739594,0.051090588900027815,0.05162838457265968,0.05216618024529156,0.05270397591792343,0.0532417715905553,0.053779567263187174,0.05431736293581905,0.054855158608450916,0.05539295428108279,0.05593074995371466,0.05646854562634653,0.05700634129897841,0.057544136971610274,0.05808193264424215,0.058619728316874016,0.05915752398950589,0.059695319662137765,0.06023311533476963,0.06077091100740151,0.061308706680033374,0.06184650235266525,0.06238429802529712,0.06292209369792899,0.06345988937056087,0.06399768504319274,0.06453548071582461,0.06507327638845647,0.06561107206108835,0.06614886773372022,0.0666866634063521,0.06722445907898397,0.06776225475161583,0.06830005042424771,0.06883784609687958,0.06937564176951146,0.06991343744214333,0.07045123311477519,0.07098902878740707,0.07152682446003894,0.07206462013267081,0.07260241580530269,0.07314021147793455,0.07367800715056642,0.0742158028231983,0.07475359849583017,0.07529139416846205,0.07582918984109391,0.07636698551372578,0.07690478118635766,0.07744257685898953,0.0779803725316214,0.07851816820425327,0.07905596387688514,0.07959375954951702,0.08013155522214889],\"y\":[0.004473553543139527,0.00582435307630028,0.007629083595808159,0.009431806377895504,0.01138201031255968,0.013666506188753086,0.016449856300105883,0.019693404308788923,0.023476496078108717,0.02787410848655369,0.03263421204541081,0.037749351462563745,0.04332129963898917,0.049489163172503396,0.055644729802033166,0.06251892219194671,0.07004686834256497,0.07799389778794812,0.08562367864693446,0.09404608726166802,0.10336847518642325,0.1128393665158371,0.12272587110699969,0.13349104427171343,0.1460778833612819,0.15891079048973783,0.17194371152154797,0.185105876754699,0.20077419354838713,0.2162162162162162,0.23401688781664653,0.2521936951576211,0.26903023983315955,0.2884830413715989,0.3081232492997199,0.3258188005104211,0.3435251798561151,0.3630300142925202,0.3873598369011213,0.40970350404312667,0.42986425339366513,0.4482554701360142,0.4664615384615385,0.4880875724404379,0.5049966688874085,0.5227586206896552,0.540385989992852,0.557111274871039,0.5735963581183612,0.5851393188854489,0.6003184713375795,0.6145069274653627,0.6293823038397329,0.6427350427350427,0.6493955094991364,0.6613896218117854,0.6708407871198568,0.6793823796548593,0.6868686868686869,0.6932344763670065,0.7016885553470918,0.7084520417853751,0.7174541947926711,0.7195357833655706,0.7223300970873786,0.7294117647058824,0.7380952380952381,0.7390438247011952,0.7452165156092648,0.7474747474747475,0.7574206755373591,0.763673890608875,0.7619047619047619,0.7645833333333333,0.769392033542977,0.773784355179704,0.7799145299145299,0.7832618025751074,0.7853290183387271,0.7870270270270271,0.7869565217391303,0.7886710239651415,0.7886710239651415,0.7886089813800657,0.7903402854006585,0.7907488986784141,0.7911602209944751,0.7911602209944751,0.7937915742793791,0.7933333333333333,0.7942157953281423,0.7937569676700111,0.7924107142857142,0.7919463087248322,0.7892376681614349,0.786036036036036,0.7850678733031674,0.7840909090909091,0.7867730900798175,0.7876712328767124,0.7857961053837343,0.7788018433179724,0.7797001153402536,0.776878612716763,0.775462962962963,0.7697674418604651,0.770663562281723,0.7719298245614036,0.7704918032786884,0.7676056338028169,0.7647058823529412,0.7573964497041421,0.7559241706161136,0.7547619047619047,0.7482014388489209,0.746987951807229,0.7424425634824667,0.7378640776699028,0.7396593673965937,0.7390243902439025,0.7343941248470012,0.7339901477832512,0.7348951911220716,0.7301980198019802,0.7270471464019851,0.7222914072229141,0.7206982543640899,0.7174999999999999,0.7119496855345913,0.708701134930643,0.7063291139240506,0.7046894803548797,0.6997455470737913,0.6973180076628352,0.6965428937259922,0.6948717948717948,0.6931964056482671,0.6924066924066924,0.6916129032258065,0.6848249027237354,0.6814044213263979,0.6814044213263979,0.6779661016949152,0.6762402088772845,0.6710353866317169,0.6710353866317169,0.6692913385826771,0.6640316205533597,0.6605019815059444,0.6578249336870028],\"type\":\"scatter\"},{\"mode\":\"lines\",\"name\":\"Precision\",\"x\":[0.0,0.0005377956726318717,0.0010755913452637435,0.001613387017895615,0.002151182690527487,0.0026889783631593588,0.00322677403579123,0.003764569708423102,0.004302365381054974,0.004840161053686846,0.0053779567263187176,0.005915752398950589,0.00645354807158246,0.006991343744214332,0.007529139416846204,0.008066935089478077,0.008604730762109948,0.009142526434741819,0.009680322107373691,0.010218117780005562,0.010755913452637435,0.011293709125269306,0.011831504797901179,0.01236930047053305,0.01290709614316492,0.013444891815796793,0.013982687488428664,0.014520483161060537,0.015058278833692408,0.01559607450632428,0.016133870178956154,0.016671665851588024,0.017209461524219895,0.017747257196851766,0.018285052869483637,0.018822848542115512,0.019360644214747383,0.019898439887379254,0.020436235560011125,0.020974031232643,0.02151182690527487,0.02204962257790674,0.022587418250538612,0.023125213923170483,0.023663009595802358,0.02420080526843423,0.0247386009410661,0.02527639661369797,0.02581419228632984,0.026351987958961716,0.026889783631593587,0.027427579304225458,0.02796537497685733,0.028503170649489203,0.029040966322121074,0.029578761994752945,0.030116557667384816,0.030654353340016687,0.03119214901264856,0.03172994468528043,0.03226774035791231,0.032805536030544175,0.03334333170317605,0.033881127375807917,0.03441892304843979,0.034956718721071665,0.03549451439370353,0.03603231006633541,0.036570105738967275,0.03710790141159915,0.037645697084231024,0.03818349275686289,0.038721288429494766,0.03925908410212663,0.03979687977475851,0.04033467544739038,0.04087247112002225,0.041410266792654124,0.041948062465286,0.042485858137917866,0.04302365381054974,0.04356144948318161,0.04409924515581348,0.04463704082844536,0.045174836501077224,0.0457126321737091,0.046250427846340966,0.04678822351897284,0.047326019191604715,0.04786381486423658,0.04840161053686846,0.048939406209500325,0.0494772018821322,0.050014997554764073,0.05055279322739594,0.051090588900027815,0.05162838457265968,0.05216618024529156,0.05270397591792343,0.0532417715905553,0.053779567263187174,0.05431736293581905,0.054855158608450916,0.05539295428108279,0.05593074995371466,0.05646854562634653,0.05700634129897841,0.057544136971610274,0.05808193264424215,0.058619728316874016,0.05915752398950589,0.059695319662137765,0.06023311533476963,0.06077091100740151,0.061308706680033374,0.06184650235266525,0.06238429802529712,0.06292209369792899,0.06345988937056087,0.06399768504319274,0.06453548071582461,0.06507327638845647,0.06561107206108835,0.06614886773372022,0.0666866634063521,0.06722445907898397,0.06776225475161583,0.06830005042424771,0.06883784609687958,0.06937564176951146,0.06991343744214333,0.07045123311477519,0.07098902878740707,0.07152682446003894,0.07206462013267081,0.07260241580530269,0.07314021147793455,0.07367800715056642,0.0742158028231983,0.07475359849583017,0.07529139416846205,0.07582918984109391,0.07636698551372578,0.07690478118635766,0.07744257685898953,0.0779803725316214,0.07851816820425327,0.07905596387688514,0.07959375954951702,0.08013155522214889],\"y\":[0.0022417911579585958,0.0029208475493837263,0.003829595514617541,0.0047391880747831355,0.0057254841684598835,0.006883819894239494,0.0082991510063913,0.009954270405099542,0.011892522715274112,0.014156116040275148,0.016619629978049544,0.019282613662325795,0.022202251942697045,0.025455650060753343,0.028731265971406864,0.03242012716853756,0.03649440596696857,0.040838741887169246,0.04506509402470235,0.04977711738484398,0.05503080082135524,0.060463706622215486,0.06618992183602196,0.07254361799816346,0.08009807928075194,0.0879046762589928,0.09595092024539878,0.10428954423592493,0.11434450323339213,0.1245186136071887,0.1364755539922617,0.1490015360983103,0.16098169717138103,0.1751131221719457,0.19002961500493584,0.20394036208732694,0.21816105082809822,0.23431734317343172,0.2552048354600403,0.27496382054992763,0.29343629343629346,0.3111658456486043,0.3289930555555556,0.3509259259259259,0.36867704280155644,0.38792221084953943,0.408207343412527,0.4276018099547511,0.44733727810650886,0.46153846153846156,0.48148148148148145,0.5,0.52,0.539454806312769,0.5489051094890511,0.5662650602409639,0.5813953488372093,0.5955414012738853,0.6071428571428571,0.6171617161716172,0.6306913996627319,0.6431034482758621,0.6595744680851063,0.6631016042780749,0.6678635547576302,0.680073126142596,0.6953271028037383,0.6986817325800376,0.7115384615384616,0.7156673114119922,0.7341269841269841,0.7459677419354839,0.7464503042596349,0.7535934291581109,0.762993762993763,0.773784355179704,0.7883369330453563,0.7952069716775599,0.801762114537445,0.8053097345132744,0.8098434004474273,0.8134831460674158,0.8134831460674158,0.8181818181818182,0.821917808219178,0.825287356321839,0.8287037037037037,0.8287037037037037,0.8344988344988346,0.8360655737704918,0.8380281690140845,0.839622641509434,0.8392434988179669,0.8408551068883611,0.8400954653937948,0.8409638554216867,0.8442822384428224,0.8476658476658476,0.8539603960396039,0.8560794044665012,0.8575,0.8556962025316456,0.8578680203045685,0.8571428571428571,0.8567774936061381,0.8552971576227391,0.8575129533678757,0.8638743455497382,0.863517060367454,0.862796833773087,0.8620689655172413,0.8602150537634409,0.8598382749326146,0.8637602179836512,0.8642659279778393,0.8683473389355743,0.867231638418079,0.8660968660968661,0.8710601719197708,0.8731988472622478,0.872093023255814,0.8790560471976401,0.8816568047337278,0.8805970149253731,0.8798798798798799,0.8787878787878788,0.878419452887538,0.8776758409785933,0.8788819875776398,0.878125,0.8801261829652997,0.879746835443038,0.8785942492012779,0.8806451612903226,0.8831168831168831,0.8827361563517915,0.8823529411764706,0.8848684210526315,0.8874172185430463,0.8859060402684564,0.8851351351351351,0.8851351351351351,0.8843537414965986,0.8839590443686007,0.8827586206896552,0.8827586206896552,0.8823529411764706,0.8811188811188811,0.8802816901408451,0.8825622775800712],\"type\":\"scatter\"},{\"mode\":\"lines\",\"name\":\"Recall\",\"x\":[0.0,0.0005377956726318717,0.0010755913452637435,0.001613387017895615,0.002151182690527487,0.0026889783631593588,0.00322677403579123,0.003764569708423102,0.004302365381054974,0.004840161053686846,0.0053779567263187176,0.005915752398950589,0.00645354807158246,0.006991343744214332,0.007529139416846204,0.008066935089478077,0.008604730762109948,0.009142526434741819,0.009680322107373691,0.010218117780005562,0.010755913452637435,0.011293709125269306,0.011831504797901179,0.01236930047053305,0.01290709614316492,0.013444891815796793,0.013982687488428664,0.014520483161060537,0.015058278833692408,0.01559607450632428,0.016133870178956154,0.016671665851588024,0.017209461524219895,0.017747257196851766,0.018285052869483637,0.018822848542115512,0.019360644214747383,0.019898439887379254,0.020436235560011125,0.020974031232643,0.02151182690527487,0.02204962257790674,0.022587418250538612,0.023125213923170483,0.023663009595802358,0.02420080526843423,0.0247386009410661,0.02527639661369797,0.02581419228632984,0.026351987958961716,0.026889783631593587,0.027427579304225458,0.02796537497685733,0.028503170649489203,0.029040966322121074,0.029578761994752945,0.030116557667384816,0.030654353340016687,0.03119214901264856,0.03172994468528043,0.03226774035791231,0.032805536030544175,0.03334333170317605,0.033881127375807917,0.03441892304843979,0.034956718721071665,0.03549451439370353,0.03603231006633541,0.036570105738967275,0.03710790141159915,0.037645697084231024,0.03818349275686289,0.038721288429494766,0.03925908410212663,0.03979687977475851,0.04033467544739038,0.04087247112002225,0.041410266792654124,0.041948062465286,0.042485858137917866,0.04302365381054974,0.04356144948318161,0.04409924515581348,0.04463704082844536,0.045174836501077224,0.0457126321737091,0.046250427846340966,0.04678822351897284,0.047326019191604715,0.04786381486423658,0.04840161053686846,0.048939406209500325,0.0494772018821322,0.050014997554764073,0.05055279322739594,0.051090588900027815,0.05162838457265968,0.05216618024529156,0.05270397591792343,0.0532417715905553,0.053779567263187174,0.05431736293581905,0.054855158608450916,0.05539295428108279,0.05593074995371466,0.05646854562634653,0.05700634129897841,0.057544136971610274,0.05808193264424215,0.058619728316874016,0.05915752398950589,0.059695319662137765,0.06023311533476963,0.06077091100740151,0.061308706680033374,0.06184650235266525,0.06238429802529712,0.06292209369792899,0.06345988937056087,0.06399768504319274,0.06453548071582461,0.06507327638845647,0.06561107206108835,0.06614886773372022,0.0666866634063521,0.06722445907898397,0.06776225475161583,0.06830005042424771,0.06883784609687958,0.06937564176951146,0.06991343744214333,0.07045123311477519,0.07098902878740707,0.07152682446003894,0.07206462013267081,0.07260241580530269,0.07314021147793455,0.07367800715056642,0.0742158028231983,0.07475359849583017,0.07529139416846205,0.07582918984109391,0.07636698551372578,0.07690478118635766,0.07744257685898953,0.0779803725316214,0.07851816820425327,0.07905596387688514,0.07959375954951702,0.08013155522214889],\"y\":[1.0,0.9809725158562368,0.9704016913319239,0.959830866807611,0.945031712473573,0.9302325581395349,0.919661733615222,0.9112050739957717,0.904862579281184,0.9006342494714588,0.8964059196617337,0.8921775898520085,0.8879492600422833,0.8858350951374208,0.879492600422833,0.8731501057082452,0.86892177589852,0.864693446088795,0.8562367864693446,0.8498942917547568,0.8498942917547568,0.8435517970401691,0.8414376321353065,0.8350951374207188,0.828752642706131,0.8266384778012685,0.8266384778012685,0.8224101479915433,0.8224101479915433,0.8202959830866807,0.8202959830866807,0.8202959830866807,0.8181818181818182,0.8181818181818182,0.813953488372093,0.8097251585623678,0.8076109936575053,0.8054968287526427,0.8033826638477801,0.8033826638477801,0.8033826638477801,0.8012684989429175,0.8012684989429175,0.8012684989429175,0.8012684989429175,0.8012684989429175,0.7991543340380549,0.7991543340380549,0.7991543340380549,0.7991543340380549,0.7970401691331924,0.7970401691331924,0.7970401691331924,0.7949260042283298,0.7949260042283298,0.7949260042283298,0.7928118393234672,0.7906976744186046,0.7906976744186046,0.7906976744186046,0.7906976744186046,0.7885835095137421,0.7864693446088795,0.7864693446088795,0.7864693446088795,0.7864693446088795,0.7864693446088795,0.7843551797040169,0.7822410147991543,0.7822410147991543,0.7822410147991543,0.7822410147991543,0.7780126849894292,0.7758985200845666,0.7758985200845666,0.773784355179704,0.7716701902748414,0.7716701902748414,0.7695560253699789,0.7695560253699789,0.7653276955602537,0.7653276955602537,0.7653276955602537,0.7610993657505285,0.7610993657505285,0.758985200845666,0.7568710359408034,0.7568710359408034,0.7568710359408034,0.7547568710359408,0.7547568710359408,0.7526427061310782,0.7505285412262156,0.7484143763213531,0.7441860465116279,0.7378435517970402,0.733615221987315,0.7293868921775899,0.7293868921775899,0.7293868921775899,0.7251585623678647,0.7145877378435518,0.7145877378435518,0.7103594080338267,0.7082452431289641,0.6997885835095138,0.6997885835095138,0.6976744186046512,0.6955602536997886,0.6913319238900634,0.6871035940803383,0.6765327695560254,0.6744186046511628,0.6701902748414377,0.6596194503171248,0.6553911205073996,0.6490486257928119,0.642706131078224,0.642706131078224,0.6405919661733616,0.6342494714587738,0.6300211416490487,0.6300211416490487,0.6236786469344608,0.6194503171247357,0.6131078224101479,0.6109936575052854,0.6067653276955602,0.5983086680761099,0.5940803382663847,0.5898520084566596,0.587737843551797,0.5813953488372093,0.5771670190274841,0.5750528541226215,0.572938689217759,0.5708245243128964,0.5687103594080338,0.5665961945031712,0.5581395348837209,0.5539112050739958,0.5539112050739958,0.5496828752642706,0.547568710359408,0.5412262156448203,0.5412262156448203,0.5391120507399577,0.53276955602537,0.5285412262156448,0.5243128964059197],\"type\":\"scatter\"}],                        {\"template\":{\"data\":{\"histogram2dcontour\":[{\"type\":\"histogram2dcontour\",\"colorbar\":{\"outlinewidth\":0,\"ticks\":\"\"},\"colorscale\":[[0.0,\"#0d0887\"],[0.1111111111111111,\"#46039f\"],[0.2222222222222222,\"#7201a8\"],[0.3333333333333333,\"#9c179e\"],[0.4444444444444444,\"#bd3786\"],[0.5555555555555556,\"#d8576b\"],[0.6666666666666666,\"#ed7953\"],[0.7777777777777778,\"#fb9f3a\"],[0.8888888888888888,\"#fdca26\"],[1.0,\"#f0f921\"]]}],\"choropleth\":[{\"type\":\"choropleth\",\"colorbar\":{\"outlinewidth\":0,\"ticks\":\"\"}}],\"histogram2d\":[{\"type\":\"histogram2d\",\"colorbar\":{\"outlinewidth\":0,\"ticks\":\"\"},\"colorscale\":[[0.0,\"#0d0887\"],[0.1111111111111111,\"#46039f\"],[0.2222222222222222,\"#7201a8\"],[0.3333333333333333,\"#9c179e\"],[0.4444444444444444,\"#bd3786\"],[0.5555555555555556,\"#d8576b\"],[0.6666666666666666,\"#ed7953\"],[0.7777777777777778,\"#fb9f3a\"],[0.8888888888888888,\"#fdca26\"],[1.0,\"#f0f921\"]]}],\"heatmap\":[{\"type\":\"heatmap\",\"colorbar\":{\"outlinewidth\":0,\"ticks\":\"\"},\"colorscale\":[[0.0,\"#0d0887\"],[0.1111111111111111,\"#46039f\"],[0.2222222222222222,\"#7201a8\"],[0.3333333333333333,\"#9c179e\"],[0.4444444444444444,\"#bd3786\"],[0.5555555555555556,\"#d8576b\"],[0.6666666666666666,\"#ed7953\"],[0.7777777777777778,\"#fb9f3a\"],[0.8888888888888888,\"#fdca26\"],[1.0,\"#f0f921\"]]}],\"heatmapgl\":[{\"type\":\"heatmapgl\",\"colorbar\":{\"outlinewidth\":0,\"ticks\":\"\"},\"colorscale\":[[0.0,\"#0d0887\"],[0.1111111111111111,\"#46039f\"],[0.2222222222222222,\"#7201a8\"],[0.3333333333333333,\"#9c179e\"],[0.4444444444444444,\"#bd3786\"],[0.5555555555555556,\"#d8576b\"],[0.6666666666666666,\"#ed7953\"],[0.7777777777777778,\"#fb9f3a\"],[0.8888888888888888,\"#fdca26\"],[1.0,\"#f0f921\"]]}],\"contourcarpet\":[{\"type\":\"contourcarpet\",\"colorbar\":{\"outlinewidth\":0,\"ticks\":\"\"}}],\"contour\":[{\"type\":\"contour\",\"colorbar\":{\"outlinewidth\":0,\"ticks\":\"\"},\"colorscale\":[[0.0,\"#0d0887\"],[0.1111111111111111,\"#46039f\"],[0.2222222222222222,\"#7201a8\"],[0.3333333333333333,\"#9c179e\"],[0.4444444444444444,\"#bd3786\"],[0.5555555555555556,\"#d8576b\"],[0.6666666666666666,\"#ed7953\"],[0.7777777777777778,\"#fb9f3a\"],[0.8888888888888888,\"#fdca26\"],[1.0,\"#f0f921\"]]}],\"surface\":[{\"type\":\"surface\",\"colorbar\":{\"outlinewidth\":0,\"ticks\":\"\"},\"colorscale\":[[0.0,\"#0d0887\"],[0.1111111111111111,\"#46039f\"],[0.2222222222222222,\"#7201a8\"],[0.3333333333333333,\"#9c179e\"],[0.4444444444444444,\"#bd3786\"],[0.5555555555555556,\"#d8576b\"],[0.6666666666666666,\"#ed7953\"],[0.7777777777777778,\"#fb9f3a\"],[0.8888888888888888,\"#fdca26\"],[1.0,\"#f0f921\"]]}],\"mesh3d\":[{\"type\":\"mesh3d\",\"colorbar\":{\"outlinewidth\":0,\"ticks\":\"\"}}],\"scatter\":[{\"fillpattern\":{\"fillmode\":\"overlay\",\"size\":10,\"solidity\":0.2},\"type\":\"scatter\"}],\"parcoords\":[{\"type\":\"parcoords\",\"line\":{\"colorbar\":{\"outlinewidth\":0,\"ticks\":\"\"}}}],\"scatterpolargl\":[{\"type\":\"scatterpolargl\",\"marker\":{\"colorbar\":{\"outlinewidth\":0,\"ticks\":\"\"}}}],\"bar\":[{\"error_x\":{\"color\":\"#2a3f5f\"},\"error_y\":{\"color\":\"#2a3f5f\"},\"marker\":{\"line\":{\"color\":\"#E5ECF6\",\"width\":0.5},\"pattern\":{\"fillmode\":\"overlay\",\"size\":10,\"solidity\":0.2}},\"type\":\"bar\"}],\"scattergeo\":[{\"type\":\"scattergeo\",\"marker\":{\"colorbar\":{\"outlinewidth\":0,\"ticks\":\"\"}}}],\"scatterpolar\":[{\"type\":\"scatterpolar\",\"marker\":{\"colorbar\":{\"outlinewidth\":0,\"ticks\":\"\"}}}],\"histogram\":[{\"marker\":{\"pattern\":{\"fillmode\":\"overlay\",\"size\":10,\"solidity\":0.2}},\"type\":\"histogram\"}],\"scattergl\":[{\"type\":\"scattergl\",\"marker\":{\"colorbar\":{\"outlinewidth\":0,\"ticks\":\"\"}}}],\"scatter3d\":[{\"type\":\"scatter3d\",\"line\":{\"colorbar\":{\"outlinewidth\":0,\"ticks\":\"\"}},\"marker\":{\"colorbar\":{\"outlinewidth\":0,\"ticks\":\"\"}}}],\"scattermapbox\":[{\"type\":\"scattermapbox\",\"marker\":{\"colorbar\":{\"outlinewidth\":0,\"ticks\":\"\"}}}],\"scatterternary\":[{\"type\":\"scatterternary\",\"marker\":{\"colorbar\":{\"outlinewidth\":0,\"ticks\":\"\"}}}],\"scattercarpet\":[{\"type\":\"scattercarpet\",\"marker\":{\"colorbar\":{\"outlinewidth\":0,\"ticks\":\"\"}}}],\"carpet\":[{\"aaxis\":{\"endlinecolor\":\"#2a3f5f\",\"gridcolor\":\"white\",\"linecolor\":\"white\",\"minorgridcolor\":\"white\",\"startlinecolor\":\"#2a3f5f\"},\"baxis\":{\"endlinecolor\":\"#2a3f5f\",\"gridcolor\":\"white\",\"linecolor\":\"white\",\"minorgridcolor\":\"white\",\"startlinecolor\":\"#2a3f5f\"},\"type\":\"carpet\"}],\"table\":[{\"cells\":{\"fill\":{\"color\":\"#EBF0F8\"},\"line\":{\"color\":\"white\"}},\"header\":{\"fill\":{\"color\":\"#C8D4E3\"},\"line\":{\"color\":\"white\"}},\"type\":\"table\"}],\"barpolar\":[{\"marker\":{\"line\":{\"color\":\"#E5ECF6\",\"width\":0.5},\"pattern\":{\"fillmode\":\"overlay\",\"size\":10,\"solidity\":0.2}},\"type\":\"barpolar\"}],\"pie\":[{\"automargin\":true,\"type\":\"pie\"}]},\"layout\":{\"autotypenumbers\":\"strict\",\"colorway\":[\"#636efa\",\"#EF553B\",\"#00cc96\",\"#ab63fa\",\"#FFA15A\",\"#19d3f3\",\"#FF6692\",\"#B6E880\",\"#FF97FF\",\"#FECB52\"],\"font\":{\"color\":\"#2a3f5f\"},\"hovermode\":\"closest\",\"hoverlabel\":{\"align\":\"left\"},\"paper_bgcolor\":\"white\",\"plot_bgcolor\":\"#E5ECF6\",\"polar\":{\"bgcolor\":\"#E5ECF6\",\"angularaxis\":{\"gridcolor\":\"white\",\"linecolor\":\"white\",\"ticks\":\"\"},\"radialaxis\":{\"gridcolor\":\"white\",\"linecolor\":\"white\",\"ticks\":\"\"}},\"ternary\":{\"bgcolor\":\"#E5ECF6\",\"aaxis\":{\"gridcolor\":\"white\",\"linecolor\":\"white\",\"ticks\":\"\"},\"baxis\":{\"gridcolor\":\"white\",\"linecolor\":\"white\",\"ticks\":\"\"},\"caxis\":{\"gridcolor\":\"white\",\"linecolor\":\"white\",\"ticks\":\"\"}},\"coloraxis\":{\"colorbar\":{\"outlinewidth\":0,\"ticks\":\"\"}},\"colorscale\":{\"sequential\":[[0.0,\"#0d0887\"],[0.1111111111111111,\"#46039f\"],[0.2222222222222222,\"#7201a8\"],[0.3333333333333333,\"#9c179e\"],[0.4444444444444444,\"#bd3786\"],[0.5555555555555556,\"#d8576b\"],[0.6666666666666666,\"#ed7953\"],[0.7777777777777778,\"#fb9f3a\"],[0.8888888888888888,\"#fdca26\"],[1.0,\"#f0f921\"]],\"sequentialminus\":[[0.0,\"#0d0887\"],[0.1111111111111111,\"#46039f\"],[0.2222222222222222,\"#7201a8\"],[0.3333333333333333,\"#9c179e\"],[0.4444444444444444,\"#bd3786\"],[0.5555555555555556,\"#d8576b\"],[0.6666666666666666,\"#ed7953\"],[0.7777777777777778,\"#fb9f3a\"],[0.8888888888888888,\"#fdca26\"],[1.0,\"#f0f921\"]],\"diverging\":[[0,\"#8e0152\"],[0.1,\"#c51b7d\"],[0.2,\"#de77ae\"],[0.3,\"#f1b6da\"],[0.4,\"#fde0ef\"],[0.5,\"#f7f7f7\"],[0.6,\"#e6f5d0\"],[0.7,\"#b8e186\"],[0.8,\"#7fbc41\"],[0.9,\"#4d9221\"],[1,\"#276419\"]]},\"xaxis\":{\"gridcolor\":\"white\",\"linecolor\":\"white\",\"ticks\":\"\",\"title\":{\"standoff\":15},\"zerolinecolor\":\"white\",\"automargin\":true,\"zerolinewidth\":2},\"yaxis\":{\"gridcolor\":\"white\",\"linecolor\":\"white\",\"ticks\":\"\",\"title\":{\"standoff\":15},\"zerolinecolor\":\"white\",\"automargin\":true,\"zerolinewidth\":2},\"scene\":{\"xaxis\":{\"backgroundcolor\":\"#E5ECF6\",\"gridcolor\":\"white\",\"linecolor\":\"white\",\"showbackground\":true,\"ticks\":\"\",\"zerolinecolor\":\"white\",\"gridwidth\":2},\"yaxis\":{\"backgroundcolor\":\"#E5ECF6\",\"gridcolor\":\"white\",\"linecolor\":\"white\",\"showbackground\":true,\"ticks\":\"\",\"zerolinecolor\":\"white\",\"gridwidth\":2},\"zaxis\":{\"backgroundcolor\":\"#E5ECF6\",\"gridcolor\":\"white\",\"linecolor\":\"white\",\"showbackground\":true,\"ticks\":\"\",\"zerolinecolor\":\"white\",\"gridwidth\":2}},\"shapedefaults\":{\"line\":{\"color\":\"#2a3f5f\"}},\"annotationdefaults\":{\"arrowcolor\":\"#2a3f5f\",\"arrowhead\":0,\"arrowwidth\":1},\"geo\":{\"bgcolor\":\"white\",\"landcolor\":\"#E5ECF6\",\"subunitcolor\":\"white\",\"showland\":true,\"showlakes\":true,\"lakecolor\":\"white\"},\"title\":{\"x\":0.05},\"mapbox\":{\"style\":\"light\"}}},\"legend\":{\"x\":0.7,\"y\":0.9},\"title\":{\"text\":\"Scores for Different Thresholds\"},\"xaxis\":{\"title\":{\"text\":\"Threshold\"}},\"yaxis\":{\"title\":{\"text\":\"Score\"}},\"width\":800,\"height\":500,\"hovermode\":\"x\",\"hoverdistance\":-1},                        {\"responsive\": true}                    ).then(function(){\n",
              "                            \n",
              "var gd = document.getElementById('58177f4d-3036-4c95-a88d-462c0cea700a');\n",
              "var x = new MutationObserver(function (mutations, observer) {{\n",
              "        var display = window.getComputedStyle(gd).display;\n",
              "        if (!display || display === 'none') {{\n",
              "            console.log([gd, 'removed!']);\n",
              "            Plotly.purge(gd);\n",
              "            observer.disconnect();\n",
              "        }}\n",
              "}});\n",
              "\n",
              "// Listen for the removal of the full notebook cells\n",
              "var notebookContainer = gd.closest('#notebook-container');\n",
              "if (notebookContainer) {{\n",
              "    x.observe(notebookContainer, {childList: true});\n",
              "}}\n",
              "\n",
              "// Listen for the clearing of the current output cell\n",
              "var outputEl = gd.closest('.output');\n",
              "if (outputEl) {{\n",
              "    x.observe(outputEl, {childList: true});\n",
              "}}\n",
              "\n",
              "                        })                };                            </script>        </div>\n",
              "</body>\n",
              "</html>"
            ]
          },
          "metadata": {}
        }
      ],
      "source": [
        "\n",
        "# Create line plot using graph_objects\n",
        "fig = go.Figure()\n",
        "\n",
        "fig.add_trace(go.Scatter(x=thresholds, y=f1_scores, mode='lines', name='F1 Score'))\n",
        "fig.add_trace(go.Scatter(x=thresholds, y=precision_scores, mode='lines', name='Precision'))\n",
        "fig.add_trace(go.Scatter(x=thresholds, y=recall_scores, mode='lines', name='Recall'))\n",
        "\n",
        "fig.update_layout(\n",
        "    title='Scores for Different Thresholds',\n",
        "    xaxis_title='Threshold',\n",
        "    yaxis_title='Score',\n",
        "    legend=dict(x=0.7, y=0.9),\n",
        "    width=800,\n",
        "    height=500\n",
        ")\n",
        "\n",
        "# # Add annotation for the scores\n",
        "# fig.add_annotation(\n",
        "#     x=thresholds[0],  # Initial position of the annotation\n",
        "#     y=f1_scores[0],\n",
        "#     text=f'F1: {f1_scores[0]:.4f}, Precision: {precision_scores[0]:.4f}, Recall: {recall_scores[0]:.4f}',\n",
        "#     showarrow=False,\n",
        "#     font=dict(size=12)\n",
        "# )\n",
        "\n",
        "# Update the annotation position and text based on mouse hover\n",
        "fig.update_layout(\n",
        "    hovermode='x',\n",
        "    hoverdistance=-1,  # Ensures the hover is always on the line\n",
        ")\n",
        "\n",
        "fig.update_traces(hovertemplate=None)  # Disable default hover template\n",
        "\n",
        "fig.show(renderer='colab')"
      ]
    },
    {
      "cell_type": "code",
      "execution_count": null,
      "metadata": {
        "colab": {
          "base_uri": "https://localhost:8080/"
        },
        "id": "bSpnZUVGg7-z",
        "outputId": "46b3eefd-9a32-4b34-dc05-aea62de8f001"
      },
      "outputs": [
        {
          "output_type": "execute_result",
          "data": {
            "text/plain": [
              "Threshold   0.048\n",
              "F1 Score    0.794\n",
              "Precision   0.838\n",
              "Recall      0.755\n",
              "Name: 90, dtype: float64"
            ]
          },
          "metadata": {},
          "execution_count": 40
        }
      ],
      "source": [
        "# The row where the f1 score is the highest\n",
        "df_scores.loc[df_scores['F1 Score'].idxmax()]"
      ]
    },
    {
      "cell_type": "code",
      "execution_count": null,
      "metadata": {
        "id": "8kDz7IHBg7-z"
      },
      "outputs": [],
      "source": [
        "optimal_threshold = df_scores.loc[df_scores['F1 Score'].idxmax()].Threshold"
      ]
    },
    {
      "cell_type": "code",
      "execution_count": null,
      "metadata": {
        "id": "d2X2Ad4Fg7-0"
      },
      "outputs": [],
      "source": [
        "df_autoencoder_predictions['predicted'] = df_autoencoder_predictions['MSE'].apply(lambda x: 1 if x > optimal_threshold else 0)"
      ]
    },
    {
      "cell_type": "code",
      "execution_count": null,
      "metadata": {
        "id": "URW2eMO5g7-0"
      },
      "outputs": [],
      "source": [
        "y_true = df_autoencoder_predictions['Class']\n",
        "y_pred = df_autoencoder_predictions['predicted']"
      ]
    },
    {
      "cell_type": "code",
      "execution_count": null,
      "metadata": {
        "colab": {
          "base_uri": "https://localhost:8080/"
        },
        "id": "5_v8ta6yg7-0",
        "outputId": "60d153c5-0bfd-457b-aa2a-3f46697ff22a"
      },
      "outputs": [
        {
          "output_type": "stream",
          "name": "stdout",
          "text": [
            "[[210450     69]\n",
            " [   116    357]]\n",
            "              precision    recall  f1-score   support\n",
            "\n",
            "           0       1.00      1.00      1.00    210519\n",
            "           1       0.84      0.75      0.79       473\n",
            "\n",
            "    accuracy                           1.00    210992\n",
            "   macro avg       0.92      0.88      0.90    210992\n",
            "weighted avg       1.00      1.00      1.00    210992\n",
            "\n"
          ]
        }
      ],
      "source": [
        "print(confusion_matrix(y_true, y_pred))\n",
        "print(classification_report(y_true, y_pred))\n",
        "print(matthews_corrcoef(y_true, y_pred))"
      ]
    },
    {
      "cell_type": "markdown",
      "metadata": {
        "id": "8MiN2zeKg7-1"
      },
      "source": [
        "***vi. Plot Precision and Recall Curve***"
      ]
    },
    {
      "cell_type": "code",
      "execution_count": null,
      "metadata": {
        "colab": {
          "base_uri": "https://localhost:8080/",
          "height": 466
        },
        "id": "8IeTHSSKg7-1",
        "outputId": "4d72fe99-c4b5-4b81-bff8-2023aa2741c9"
      },
      "outputs": [
        {
          "output_type": "execute_result",
          "data": {
            "text/plain": [
              "<sklearn.metrics._plot.precision_recall_curve.PrecisionRecallDisplay at 0x7dfb07682c20>"
            ]
          },
          "metadata": {},
          "execution_count": 45
        },
        {
          "output_type": "display_data",
          "data": {
            "text/plain": [
              "<Figure size 640x480 with 1 Axes>"
            ],
            "image/png": "[encoded data removed]"
          },
          "metadata": {}
        }
      ],
      "source": [
        "PrecisionRecallDisplay.from_predictions(y_true,df_autoencoder_predictions['MSE'])"
      ]
    },
    {
      "cell_type": "markdown",
      "metadata": {
        "id": "IcEQJ452gw4B"
      },
      "source": [
        "##### Test - Anomaly"
      ]
    },
    {
      "cell_type": "code",
      "execution_count": null,
      "metadata": {
        "id": "nQXcKN6TLjtz"
      },
      "outputs": [],
      "source": [
        "df_autoencoder_predictions = pd.concat([df_mse_anomaly,df_mse_test])"
      ]
    },
    {
      "cell_type": "code",
      "execution_count": null,
      "metadata": {
        "id": "xo00TljlMd-r"
      },
      "outputs": [],
      "source": [
        "df_autoencoder_predictions.reset_index(drop=True,inplace=True)\n",
        "df_autoencoder_predictions.rename(columns={0: 'MSE'}, inplace=True)"
      ]
    },
    {
      "cell_type": "code",
      "execution_count": null,
      "metadata": {
        "colab": {
          "base_uri": "https://localhost:8080/",
          "height": 449
        },
        "id": "_zKUM4sjMIit",
        "outputId": "d124b130-03da-4fef-f6d0-497a2f0667d6"
      },
      "outputs": [
        {
          "output_type": "display_data",
          "data": {
            "text/plain": [
              "<Figure size 640x480 with 1 Axes>"
            ],
            "image/png": "[encoded data removed]"
          },
          "metadata": {}
        }
      ],
      "source": [
        "sns.histplot(df_autoencoder_predictions, x='MSE', bins=50, hue='Class', stat='density', common_norm=False, kde=True, kde_kws=dict(cut=3), alpha=.4, palette='seismic', edgecolor=(1, 1, 1, .4));\n"
      ]
    },
    {
      "cell_type": "code",
      "execution_count": null,
      "metadata": {
        "colab": {
          "base_uri": "https://localhost:8080/",
          "height": 466
        },
        "id": "LDhjLpE6P-iB",
        "outputId": "db1ed3e6-ffbc-422c-de40-f934f124f825"
      },
      "outputs": [
        {
          "output_type": "execute_result",
          "data": {
            "text/plain": [
              "<Axes: xlabel='Class', ylabel='MSE'>"
            ]
          },
          "metadata": {},
          "execution_count": 49
        },
        {
          "output_type": "display_data",
          "data": {
            "text/plain": [
              "<Figure size 640x480 with 1 Axes>"
            ],
            "image/png": "[encoded data removed]"
          },
          "metadata": {}
        }
      ],
      "source": [
        " sns.boxplot(x=\"Class\", y='MSE', data=df_autoencoder_predictions, palette='seismic', whis =3)"
      ]
    },
    {
      "cell_type": "code",
      "execution_count": null,
      "metadata": {
        "id": "0k6gCL0afEFP"
      },
      "outputs": [],
      "source": [
        "df_autoencoder_predictions['predicted'] = df_autoencoder_predictions['MSE'].apply(lambda x: 1 if x > optimal_threshold else 0)"
      ]
    },
    {
      "cell_type": "code",
      "execution_count": null,
      "metadata": {
        "id": "9zgmqZyF6tDQ"
      },
      "outputs": [],
      "source": [
        "y_true = df_autoencoder_predictions['Class']\n",
        "y_pred = df_autoencoder_predictions['predicted']"
      ]
    },
    {
      "cell_type": "code",
      "execution_count": null,
      "metadata": {
        "colab": {
          "base_uri": "https://localhost:8080/"
        },
        "id": "VoCMg443IFo9",
        "outputId": "4b1c9725-0a3d-440b-a5cc-c84561dd4c45"
      },
      "outputs": [
        {
          "output_type": "stream",
          "name": "stdout",
          "text": [
            "[[41262    17]\n",
            " [  116   357]]\n",
            "              precision    recall  f1-score   support\n",
            "\n",
            "           0       1.00      1.00      1.00     41279\n",
            "           1       0.95      0.75      0.84       473\n",
            "\n",
            "    accuracy                           1.00     41752\n",
            "   macro avg       0.98      0.88      0.92     41752\n",
            "weighted avg       1.00      1.00      1.00     41752\n",
            "\n",
            "0.847314511213861\n"
          ]
        }
      ],
      "source": [
        "print(confusion_matrix(y_true, y_pred))\n",
        "print(classification_report(y_true, y_pred))\n",
        "print(matthews_corrcoef(y_true, y_pred))"
      ]
    },
    {
      "cell_type": "markdown",
      "metadata": {
        "id": "KX5VSQzJIFo-"
      },
      "source": [
        "***vi. Plot Precision and Recall Curve***"
      ]
    },
    {
      "cell_type": "code",
      "execution_count": null,
      "metadata": {
        "colab": {
          "base_uri": "https://localhost:8080/",
          "height": 466
        },
        "id": "YrXD8f0bIFo-",
        "outputId": "0523fcb9-a106-407e-c86a-eae929513a2c"
      },
      "outputs": [
        {
          "output_type": "execute_result",
          "data": {
            "text/plain": [
              "<sklearn.metrics._plot.precision_recall_curve.PrecisionRecallDisplay at 0x7dfae589a800>"
            ]
          },
          "metadata": {},
          "execution_count": 53
        },
        {
          "output_type": "display_data",
          "data": {
            "text/plain": [
              "<Figure size 640x480 with 1 Axes>"
            ],
            "image/png": "[encoded data removed]"
          },
          "metadata": {}
        }
      ],
      "source": [
        "PrecisionRecallDisplay.from_predictions(y_true,df_autoencoder_predictions['MSE'])"
      ]
    },
    {
      "cell_type": "markdown",
      "metadata": {
        "id": "pd8R3N6ekDK5"
      },
      "source": [
        "##### Model Deployment"
      ]
    },
    {
      "cell_type": "code",
      "execution_count": null,
      "metadata": {
        "id": "7fQgLowPiPfe"
      },
      "outputs": [],
      "source": [
        "autoencoder.save_weights('model_autoencoder.h5')"
      ]
    },
    {
      "cell_type": "code",
      "execution_count": null,
      "metadata": {
        "colab": {
          "base_uri": "https://localhost:8080/"
        },
        "id": "mvWq0l8MkV1N",
        "outputId": "bcc65102-bd61-4d71-e155-0277bfc0d6d1"
      },
      "outputs": [
        {
          "output_type": "stream",
          "name": "stderr",
          "text": [
            "WARNING:absl:Found untraced functions such as _update_step_xla while saving (showing 1 of 1). These functions will not be directly callable after loading.\n"
          ]
        }
      ],
      "source": [
        "autoencoder.save('model_autoencoder_tf',save_format='tf')"
      ]
    },
    {
      "cell_type": "code",
      "execution_count": null,
      "metadata": {
        "id": "KyMKUFdQlmDi"
      },
      "outputs": [],
      "source": [
        "import pickle\n",
        "scalerfile = 'autoencoder_scaler.sav'\n",
        "pickle.dump(scaler, open(scalerfile, 'wb'))"
      ]
    },
    {
      "cell_type": "code",
      "execution_count": null,
      "metadata": {
        "id": "Gw7ry1XolyQQ"
      },
      "outputs": [],
      "source": [
        "capperfile = 'autoencoder_capping'\n",
        "pickle.dump(capper, open(capperfile, 'wb'))"
      ]
    },
    {
      "cell_type": "code",
      "execution_count": null,
      "metadata": {
        "id": "BVFV0n17l-5r"
      },
      "outputs": [],
      "source": [
        "# Load the saved model\n",
        "loaded_model = tf.keras.models.load_model('model_autoencoder_tf')"
      ]
    },
    {
      "cell_type": "code",
      "execution_count": null,
      "metadata": {
        "id": "RMsZk4Grmbmq"
      },
      "outputs": [],
      "source": [
        "# Load the scaler\n",
        "scalerfile = 'autoencoder_scaler.sav'\n",
        "scaler = pickle.load(open(scalerfile, 'rb'))\n",
        "\n",
        "# Use the loaded scaler for scaling new data\n",
        "# scaled_data = scaler.transform(new_data)"
      ]
    },
    {
      "cell_type": "code",
      "execution_count": null,
      "metadata": {
        "id": "0qKjTJ00mfZ9"
      },
      "outputs": [],
      "source": [
        "# Load the capper object\n",
        "capperfile = 'autoencoder_capping'\n",
        "capper = pickle.load(open(capperfile, 'rb'))"
      ]
    },
    {
      "cell_type": "code",
      "execution_count": null,
      "metadata": {
        "colab": {
          "base_uri": "https://localhost:8080/",
          "height": 81
        },
        "id": "TbO91HqqmtiE",
        "outputId": "ae028943-e001-4d2a-a574-919f6717af58"
      },
      "outputs": [
        {
          "output_type": "execute_result",
          "data": {
            "text/plain": [
              "      V1    V2     V3    V4     V5     V6     V7     V8     V9    V10   V11  \\\n",
              "3 -4.398 1.358 -2.593 2.680 -1.128 -1.707 -3.496 -0.249 -0.248 -4.802 4.896   \n",
              "\n",
              "      V12   V13    V14    V15    V16     V17    V18   V19    V20   V21   V22  \\\n",
              "3 -10.913 0.184 -6.771 -0.007 -7.358 -12.598 -5.132 0.308 -0.172 0.574 0.177   \n",
              "\n",
              "     V23    V24   V25    V26    V27   V28  Amount  \n",
              "3 -0.436 -0.054 0.252 -0.657 -0.827 0.850   4.094  "
            ],
            "text/html": [
              "\n",
              "\n",
              "  <div id=\"df-96adc665-223a-4e6f-8b98-13899a46ae73\">\n",
              "    <div class=\"colab-df-container\">\n",
              "      <div>\n",
              "<style scoped>\n",
              "    .dataframe tbody tr th:only-of-type {\n",
              "        vertical-align: middle;\n",
              "    }\n",
              "\n",
              "    .dataframe tbody tr th {\n",
              "        vertical-align: top;\n",
              "    }\n",
              "\n",
              "    .dataframe thead th {\n",
              "        text-align: right;\n",
              "    }\n",
              "</style>\n",
              "<table border=\"1\" class=\"dataframe\">\n",
              "  <thead>\n",
              "    <tr style=\"text-align: right;\">\n",
              "      <th></th>\n",
              "      <th>V1</th>\n",
              "      <th>V2</th>\n",
              "      <th>V3</th>\n",
              "      <th>V4</th>\n",
              "      <th>V5</th>\n",
              "      <th>V6</th>\n",
              "      <th>V7</th>\n",
              "      <th>V8</th>\n",
              "      <th>V9</th>\n",
              "      <th>V10</th>\n",
              "      <th>V11</th>\n",
              "      <th>V12</th>\n",
              "      <th>V13</th>\n",
              "      <th>V14</th>\n",
              "      <th>V15</th>\n",
              "      <th>V16</th>\n",
              "      <th>V17</th>\n",
              "      <th>V18</th>\n",
              "      <th>V19</th>\n",
              "      <th>V20</th>\n",
              "      <th>V21</th>\n",
              "      <th>V22</th>\n",
              "      <th>V23</th>\n",
              "      <th>V24</th>\n",
              "      <th>V25</th>\n",
              "      <th>V26</th>\n",
              "      <th>V27</th>\n",
              "      <th>V28</th>\n",
              "      <th>Amount</th>\n",
              "    </tr>\n",
              "  </thead>\n",
              "  <tbody>\n",
              "    <tr>\n",
              "      <th>3</th>\n",
              "      <td>-4.398</td>\n",
              "      <td>1.358</td>\n",
              "      <td>-2.593</td>\n",
              "      <td>2.680</td>\n",
              "      <td>-1.128</td>\n",
              "      <td>-1.707</td>\n",
              "      <td>-3.496</td>\n",
              "      <td>-0.249</td>\n",
              "      <td>-0.248</td>\n",
              "      <td>-4.802</td>\n",
              "      <td>4.896</td>\n",
              "      <td>-10.913</td>\n",
              "      <td>0.184</td>\n",
              "      <td>-6.771</td>\n",
              "      <td>-0.007</td>\n",
              "      <td>-7.358</td>\n",
              "      <td>-12.598</td>\n",
              "      <td>-5.132</td>\n",
              "      <td>0.308</td>\n",
              "      <td>-0.172</td>\n",
              "      <td>0.574</td>\n",
              "      <td>0.177</td>\n",
              "      <td>-0.436</td>\n",
              "      <td>-0.054</td>\n",
              "      <td>0.252</td>\n",
              "      <td>-0.657</td>\n",
              "      <td>-0.827</td>\n",
              "      <td>0.850</td>\n",
              "      <td>4.094</td>\n",
              "    </tr>\n",
              "  </tbody>\n",
              "</table>\n",
              "</div>\n",
              "      <button class=\"colab-df-convert\" onclick=\"convertToInteractive('df-96adc665-223a-4e6f-8b98-13899a46ae73')\"\n",
              "              title=\"Convert this dataframe to an interactive table.\"\n",
              "              style=\"display:none;\">\n",
              "\n",
              "  <svg xmlns=\"http://www.w3.org/2000/svg\" height=\"24px\"viewBox=\"0 0 24 24\"\n",
              "       width=\"24px\">\n",
              "    <path d=\"M0 0h24v24H0V0z\" fill=\"none\"/>\n",
              "    <path d=\"M18.56 5.44l.94 2.06.94-2.06 2.06-.94-2.06-.94-.94-2.06-.94 2.06-2.06.94zm-11 1L8.5 8.5l.94-2.06 2.06-.94-2.06-.94L8.5 2.5l-.94 2.06-2.06.94zm10 10l.94 2.06.94-2.06 2.06-.94-2.06-.94-.94-2.06-.94 2.06-2.06.94z\"/><path d=\"M17.41 7.96l-1.37-1.37c-.4-.4-.92-.59-1.43-.59-.52 0-1.04.2-1.43.59L10.3 9.45l-7.72 7.72c-.78.78-.78 2.05 0 2.83L4 21.41c.39.39.9.59 1.41.59.51 0 1.02-.2 1.41-.59l7.78-7.78 2.81-2.81c.8-.78.8-2.07 0-2.86zM5.41 20L4 18.59l7.72-7.72 1.47 1.35L5.41 20z\"/>\n",
              "  </svg>\n",
              "      </button>\n",
              "\n",
              "\n",
              "\n",
              "    <div id=\"df-e0eb0280-a1b7-49bb-847c-55003e4fd11a\">\n",
              "      <button class=\"colab-df-quickchart\" onclick=\"quickchart('df-e0eb0280-a1b7-49bb-847c-55003e4fd11a')\"\n",
              "              title=\"Suggest charts.\"\n",
              "              style=\"display:none;\">\n",
              "\n",
              "<svg xmlns=\"http://www.w3.org/2000/svg\" height=\"24px\"viewBox=\"0 0 24 24\"\n",
              "     width=\"24px\">\n",
              "    <g>\n",
              "        <path d=\"M19 3H5c-1.1 0-2 .9-2 2v14c0 1.1.9 2 2 2h14c1.1 0 2-.9 2-2V5c0-1.1-.9-2-2-2zM9 17H7v-7h2v7zm4 0h-2V7h2v10zm4 0h-2v-4h2v4z\"/>\n",
              "    </g>\n",
              "</svg>\n",
              "      </button>\n",
              "    </div>\n",
              "\n",
              "<style>\n",
              "  .colab-df-quickchart {\n",
              "    background-color: #E8F0FE;\n",
              "    border: none;\n",
              "    border-radius: 50%;\n",
              "    cursor: pointer;\n",
              "    display: none;\n",
              "    fill: #1967D2;\n",
              "    height: 32px;\n",
              "    padding: 0 0 0 0;\n",
              "    width: 32px;\n",
              "  }\n",
              "\n",
              "  .colab-df-quickchart:hover {\n",
              "    background-color: #E2EBFA;\n",
              "    box-shadow: 0px 1px 2px rgba(60, 64, 67, 0.3), 0px 1px 3px 1px rgba(60, 64, 67, 0.15);\n",
              "    fill: #174EA6;\n",
              "  }\n",
              "\n",
              "  [theme=dark] .colab-df-quickchart {\n",
              "    background-color: #3B4455;\n",
              "    fill: #D2E3FC;\n",
              "  }\n",
              "\n",
              "  [theme=dark] .colab-df-quickchart:hover {\n",
              "    background-color: #434B5C;\n",
              "    box-shadow: 0px 1px 3px 1px rgba(0, 0, 0, 0.15);\n",
              "    filter: drop-shadow(0px 1px 2px rgba(0, 0, 0, 0.3));\n",
              "    fill: #FFFFFF;\n",
              "  }\n",
              "</style>\n",
              "\n",
              "    <script>\n",
              "      async function quickchart(key) {\n",
              "        const containerElement = document.querySelector('#' + key);\n",
              "        const charts = await google.colab.kernel.invokeFunction(\n",
              "            'suggestCharts', [key], {});\n",
              "      }\n",
              "    </script>\n",
              "\n",
              "      <script>\n",
              "\n",
              "function displayQuickchartButton(domScope) {\n",
              "  let quickchartButtonEl =\n",
              "    domScope.querySelector('#df-e0eb0280-a1b7-49bb-847c-55003e4fd11a button.colab-df-quickchart');\n",
              "  quickchartButtonEl.style.display =\n",
              "    google.colab.kernel.accessAllowed ? 'block' : 'none';\n",
              "}\n",
              "\n",
              "        displayQuickchartButton(document);\n",
              "      </script>\n",
              "      <style>\n",
              "    .colab-df-container {\n",
              "      display:flex;\n",
              "      flex-wrap:wrap;\n",
              "      gap: 12px;\n",
              "    }\n",
              "\n",
              "    .colab-df-convert {\n",
              "      background-color: #E8F0FE;\n",
              "      border: none;\n",
              "      border-radius: 50%;\n",
              "      cursor: pointer;\n",
              "      display: none;\n",
              "      fill: #1967D2;\n",
              "      height: 32px;\n",
              "      padding: 0 0 0 0;\n",
              "      width: 32px;\n",
              "    }\n",
              "\n",
              "    .colab-df-convert:hover {\n",
              "      background-color: #E2EBFA;\n",
              "      box-shadow: 0px 1px 2px rgba(60, 64, 67, 0.3), 0px 1px 3px 1px rgba(60, 64, 67, 0.15);\n",
              "      fill: #174EA6;\n",
              "    }\n",
              "\n",
              "    [theme=dark] .colab-df-convert {\n",
              "      background-color: #3B4455;\n",
              "      fill: #D2E3FC;\n",
              "    }\n",
              "\n",
              "    [theme=dark] .colab-df-convert:hover {\n",
              "      background-color: #434B5C;\n",
              "      box-shadow: 0px 1px 3px 1px rgba(0, 0, 0, 0.15);\n",
              "      filter: drop-shadow(0px 1px 2px rgba(0, 0, 0, 0.3));\n",
              "      fill: #FFFFFF;\n",
              "    }\n",
              "  </style>\n",
              "\n",
              "      <script>\n",
              "        const buttonEl =\n",
              "          document.querySelector('#df-96adc665-223a-4e6f-8b98-13899a46ae73 button.colab-df-convert');\n",
              "        buttonEl.style.display =\n",
              "          google.colab.kernel.accessAllowed ? 'block' : 'none';\n",
              "\n",
              "        async function convertToInteractive(key) {\n",
              "          const element = document.querySelector('#df-96adc665-223a-4e6f-8b98-13899a46ae73');\n",
              "          const dataTable =\n",
              "            await google.colab.kernel.invokeFunction('convertToInteractive',\n",
              "                                                     [key], {});\n",
              "          if (!dataTable) return;\n",
              "\n",
              "          const docLinkHtml = 'Like what you see? Visit the ' +\n",
              "            '<a target=\"_blank\" href=https://colab.research.google.com/notebooks/data_table.ipynb>data table notebook</a>'\n",
              "            + ' to learn more about interactive tables.';\n",
              "          element.innerHTML = '';\n",
              "          dataTable['output_type'] = 'display_data';\n",
              "          await google.colab.output.renderOutput(dataTable, element);\n",
              "          const docLink = document.createElement('div');\n",
              "          docLink.innerHTML = docLinkHtml;\n",
              "          element.appendChild(docLink);\n",
              "        }\n",
              "      </script>\n",
              "    </div>\n",
              "  </div>\n"
            ]
          },
          "metadata": {},
          "execution_count": 61
        }
      ],
      "source": [
        "sample = pd.DataFrame(df_anomaly.iloc[3].drop('Class')).T\n",
        "sample"
      ]
    },
    {
      "cell_type": "code",
      "execution_count": null,
      "metadata": {
        "colab": {
          "base_uri": "https://localhost:8080/",
          "height": 81
        },
        "id": "cU_T0i-Fm1Vb",
        "outputId": "c2083024-2d16-471c-d599-e92b2383296b"
      },
      "outputs": [
        {
          "output_type": "execute_result",
          "data": {
            "text/plain": [
              "      V1    V2     V3    V4     V5     V6     V7     V8     V9    V10   V11  \\\n",
              "3 -4.398 1.358 -2.593 2.680 -1.128 -1.707 -3.496 -0.249 -0.248 -3.564 4.896   \n",
              "\n",
              "     V12   V13    V14    V15    V16    V17    V18   V19    V20   V21   V22  \\\n",
              "3 -3.494 0.184 -3.173 -0.007 -3.475 -3.121 -3.516 0.308 -0.172 0.574 0.177   \n",
              "\n",
              "     V23    V24   V25    V26    V27   V28  Amount  \n",
              "3 -0.436 -0.054 0.252 -0.657 -0.569 0.483   4.094  "
            ],
            "text/html": [
              "\n",
              "\n",
              "  <div id=\"df-7c570a9d-6201-4ed4-83bb-f156c3297431\">\n",
              "    <div class=\"colab-df-container\">\n",
              "      <div>\n",
              "<style scoped>\n",
              "    .dataframe tbody tr th:only-of-type {\n",
              "        vertical-align: middle;\n",
              "    }\n",
              "\n",
              "    .dataframe tbody tr th {\n",
              "        vertical-align: top;\n",
              "    }\n",
              "\n",
              "    .dataframe thead th {\n",
              "        text-align: right;\n",
              "    }\n",
              "</style>\n",
              "<table border=\"1\" class=\"dataframe\">\n",
              "  <thead>\n",
              "    <tr style=\"text-align: right;\">\n",
              "      <th></th>\n",
              "      <th>V1</th>\n",
              "      <th>V2</th>\n",
              "      <th>V3</th>\n",
              "      <th>V4</th>\n",
              "      <th>V5</th>\n",
              "      <th>V6</th>\n",
              "      <th>V7</th>\n",
              "      <th>V8</th>\n",
              "      <th>V9</th>\n",
              "      <th>V10</th>\n",
              "      <th>V11</th>\n",
              "      <th>V12</th>\n",
              "      <th>V13</th>\n",
              "      <th>V14</th>\n",
              "      <th>V15</th>\n",
              "      <th>V16</th>\n",
              "      <th>V17</th>\n",
              "      <th>V18</th>\n",
              "      <th>V19</th>\n",
              "      <th>V20</th>\n",
              "      <th>V21</th>\n",
              "      <th>V22</th>\n",
              "      <th>V23</th>\n",
              "      <th>V24</th>\n",
              "      <th>V25</th>\n",
              "      <th>V26</th>\n",
              "      <th>V27</th>\n",
              "      <th>V28</th>\n",
              "      <th>Amount</th>\n",
              "    </tr>\n",
              "  </thead>\n",
              "  <tbody>\n",
              "    <tr>\n",
              "      <th>3</th>\n",
              "      <td>-4.398</td>\n",
              "      <td>1.358</td>\n",
              "      <td>-2.593</td>\n",
              "      <td>2.680</td>\n",
              "      <td>-1.128</td>\n",
              "      <td>-1.707</td>\n",
              "      <td>-3.496</td>\n",
              "      <td>-0.249</td>\n",
              "      <td>-0.248</td>\n",
              "      <td>-3.564</td>\n",
              "      <td>4.896</td>\n",
              "      <td>-3.494</td>\n",
              "      <td>0.184</td>\n",
              "      <td>-3.173</td>\n",
              "      <td>-0.007</td>\n",
              "      <td>-3.475</td>\n",
              "      <td>-3.121</td>\n",
              "      <td>-3.516</td>\n",
              "      <td>0.308</td>\n",
              "      <td>-0.172</td>\n",
              "      <td>0.574</td>\n",
              "      <td>0.177</td>\n",
              "      <td>-0.436</td>\n",
              "      <td>-0.054</td>\n",
              "      <td>0.252</td>\n",
              "      <td>-0.657</td>\n",
              "      <td>-0.569</td>\n",
              "      <td>0.483</td>\n",
              "      <td>4.094</td>\n",
              "    </tr>\n",
              "  </tbody>\n",
              "</table>\n",
              "</div>\n",
              "      <button class=\"colab-df-convert\" onclick=\"convertToInteractive('df-7c570a9d-6201-4ed4-83bb-f156c3297431')\"\n",
              "              title=\"Convert this dataframe to an interactive table.\"\n",
              "              style=\"display:none;\">\n",
              "\n",
              "  <svg xmlns=\"http://www.w3.org/2000/svg\" height=\"24px\"viewBox=\"0 0 24 24\"\n",
              "       width=\"24px\">\n",
              "    <path d=\"M0 0h24v24H0V0z\" fill=\"none\"/>\n",
              "    <path d=\"M18.56 5.44l.94 2.06.94-2.06 2.06-.94-2.06-.94-.94-2.06-.94 2.06-2.06.94zm-11 1L8.5 8.5l.94-2.06 2.06-.94-2.06-.94L8.5 2.5l-.94 2.06-2.06.94zm10 10l.94 2.06.94-2.06 2.06-.94-2.06-.94-.94-2.06-.94 2.06-2.06.94z\"/><path d=\"M17.41 7.96l-1.37-1.37c-.4-.4-.92-.59-1.43-.59-.52 0-1.04.2-1.43.59L10.3 9.45l-7.72 7.72c-.78.78-.78 2.05 0 2.83L4 21.41c.39.39.9.59 1.41.59.51 0 1.02-.2 1.41-.59l7.78-7.78 2.81-2.81c.8-.78.8-2.07 0-2.86zM5.41 20L4 18.59l7.72-7.72 1.47 1.35L5.41 20z\"/>\n",
              "  </svg>\n",
              "      </button>\n",
              "\n",
              "\n",
              "\n",
              "    <div id=\"df-8c9a2247-7838-41d8-93f7-651f4d7956d2\">\n",
              "      <button class=\"colab-df-quickchart\" onclick=\"quickchart('df-8c9a2247-7838-41d8-93f7-651f4d7956d2')\"\n",
              "              title=\"Suggest charts.\"\n",
              "              style=\"display:none;\">\n",
              "\n",
              "<svg xmlns=\"http://www.w3.org/2000/svg\" height=\"24px\"viewBox=\"0 0 24 24\"\n",
              "     width=\"24px\">\n",
              "    <g>\n",
              "        <path d=\"M19 3H5c-1.1 0-2 .9-2 2v14c0 1.1.9 2 2 2h14c1.1 0 2-.9 2-2V5c0-1.1-.9-2-2-2zM9 17H7v-7h2v7zm4 0h-2V7h2v10zm4 0h-2v-4h2v4z\"/>\n",
              "    </g>\n",
              "</svg>\n",
              "      </button>\n",
              "    </div>\n",
              "\n",
              "<style>\n",
              "  .colab-df-quickchart {\n",
              "    background-color: #E8F0FE;\n",
              "    border: none;\n",
              "    border-radius: 50%;\n",
              "    cursor: pointer;\n",
              "    display: none;\n",
              "    fill: #1967D2;\n",
              "    height: 32px;\n",
              "    padding: 0 0 0 0;\n",
              "    width: 32px;\n",
              "  }\n",
              "\n",
              "  .colab-df-quickchart:hover {\n",
              "    background-color: #E2EBFA;\n",
              "    box-shadow: 0px 1px 2px rgba(60, 64, 67, 0.3), 0px 1px 3px 1px rgba(60, 64, 67, 0.15);\n",
              "    fill: #174EA6;\n",
              "  }\n",
              "\n",
              "  [theme=dark] .colab-df-quickchart {\n",
              "    background-color: #3B4455;\n",
              "    fill: #D2E3FC;\n",
              "  }\n",
              "\n",
              "  [theme=dark] .colab-df-quickchart:hover {\n",
              "    background-color: #434B5C;\n",
              "    box-shadow: 0px 1px 3px 1px rgba(0, 0, 0, 0.15);\n",
              "    filter: drop-shadow(0px 1px 2px rgba(0, 0, 0, 0.3));\n",
              "    fill: #FFFFFF;\n",
              "  }\n",
              "</style>\n",
              "\n",
              "    <script>\n",
              "      async function quickchart(key) {\n",
              "        const containerElement = document.querySelector('#' + key);\n",
              "        const charts = await google.colab.kernel.invokeFunction(\n",
              "            'suggestCharts', [key], {});\n",
              "      }\n",
              "    </script>\n",
              "\n",
              "      <script>\n",
              "\n",
              "function displayQuickchartButton(domScope) {\n",
              "  let quickchartButtonEl =\n",
              "    domScope.querySelector('#df-8c9a2247-7838-41d8-93f7-651f4d7956d2 button.colab-df-quickchart');\n",
              "  quickchartButtonEl.style.display =\n",
              "    google.colab.kernel.accessAllowed ? 'block' : 'none';\n",
              "}\n",
              "\n",
              "        displayQuickchartButton(document);\n",
              "      </script>\n",
              "      <style>\n",
              "    .colab-df-container {\n",
              "      display:flex;\n",
              "      flex-wrap:wrap;\n",
              "      gap: 12px;\n",
              "    }\n",
              "\n",
              "    .colab-df-convert {\n",
              "      background-color: #E8F0FE;\n",
              "      border: none;\n",
              "      border-radius: 50%;\n",
              "      cursor: pointer;\n",
              "      display: none;\n",
              "      fill: #1967D2;\n",
              "      height: 32px;\n",
              "      padding: 0 0 0 0;\n",
              "      width: 32px;\n",
              "    }\n",
              "\n",
              "    .colab-df-convert:hover {\n",
              "      background-color: #E2EBFA;\n",
              "      box-shadow: 0px 1px 2px rgba(60, 64, 67, 0.3), 0px 1px 3px 1px rgba(60, 64, 67, 0.15);\n",
              "      fill: #174EA6;\n",
              "    }\n",
              "\n",
              "    [theme=dark] .colab-df-convert {\n",
              "      background-color: #3B4455;\n",
              "      fill: #D2E3FC;\n",
              "    }\n",
              "\n",
              "    [theme=dark] .colab-df-convert:hover {\n",
              "      background-color: #434B5C;\n",
              "      box-shadow: 0px 1px 3px 1px rgba(0, 0, 0, 0.15);\n",
              "      filter: drop-shadow(0px 1px 2px rgba(0, 0, 0, 0.3));\n",
              "      fill: #FFFFFF;\n",
              "    }\n",
              "  </style>\n",
              "\n",
              "      <script>\n",
              "        const buttonEl =\n",
              "          document.querySelector('#df-7c570a9d-6201-4ed4-83bb-f156c3297431 button.colab-df-convert');\n",
              "        buttonEl.style.display =\n",
              "          google.colab.kernel.accessAllowed ? 'block' : 'none';\n",
              "\n",
              "        async function convertToInteractive(key) {\n",
              "          const element = document.querySelector('#df-7c570a9d-6201-4ed4-83bb-f156c3297431');\n",
              "          const dataTable =\n",
              "            await google.colab.kernel.invokeFunction('convertToInteractive',\n",
              "                                                     [key], {});\n",
              "          if (!dataTable) return;\n",
              "\n",
              "          const docLinkHtml = 'Like what you see? Visit the ' +\n",
              "            '<a target=\"_blank\" href=https://colab.research.google.com/notebooks/data_table.ipynb>data table notebook</a>'\n",
              "            + ' to learn more about interactive tables.';\n",
              "          element.innerHTML = '';\n",
              "          dataTable['output_type'] = 'display_data';\n",
              "          await google.colab.output.renderOutput(dataTable, element);\n",
              "          const docLink = document.createElement('div');\n",
              "          docLink.innerHTML = docLinkHtml;\n",
              "          element.appendChild(docLink);\n",
              "        }\n",
              "      </script>\n",
              "    </div>\n",
              "  </div>\n"
            ]
          },
          "metadata": {},
          "execution_count": 62
        }
      ],
      "source": [
        "sample = capper.transform(sample)\n",
        "sample"
      ]
    },
    {
      "cell_type": "code",
      "source": [
        "sample = scaler.transform(sample)\n",
        "sample"
      ],
      "metadata": {
        "colab": {
          "base_uri": "https://localhost:8080/"
        },
        "id": "MwMYqkJEJKu_",
        "outputId": "664ce8ee-96b8-44e0-e4a6-c9ad8898fa4f"
      },
      "execution_count": null,
      "outputs": [
        {
          "output_type": "execute_result",
          "data": {
            "text/plain": [
              "array([[0.32239728, 0.62528128, 0.29540505, 0.74293611, 0.3814471 ,\n",
              "        0.31176924, 0.05768106, 0.41784878, 0.47496541, 0.        ,\n",
              "        0.96554637, 0.        , 0.51890901, 0.        , 0.49672751,\n",
              "        0.        , 0.        , 0.        , 0.54740343, 0.44507092,\n",
              "        0.70451883, 0.52361639, 0.30365536, 0.48389588, 0.55129034,\n",
              "        0.34671978, 0.        , 1.        , 0.40322713]])"
            ]
          },
          "metadata": {},
          "execution_count": 63
        }
      ]
    },
    {
      "cell_type": "code",
      "source": [
        "sample_data_predictions = loaded_model.predict(sample)   # predict reconstruction\n",
        "mse_sample = np.mean(np.power(sample- sample_data_predictions, 2), axis=1)   # calculates MSE between test data and reconstruction"
      ],
      "metadata": {
        "colab": {
          "base_uri": "https://localhost:8080/"
        },
        "id": "O2t-HoIOKH8t",
        "outputId": "2503be6a-ca0c-4f80-bf47-d9e489d628a0"
      },
      "execution_count": null,
      "outputs": [
        {
          "output_type": "stream",
          "name": "stdout",
          "text": [
            "1/1 [==============================] - 0s 129ms/step\n"
          ]
        }
      ]
    },
    {
      "cell_type": "code",
      "source": [
        "error_df = pd.DataFrame(mse_sample,columns=['reconstruction_error'])"
      ],
      "metadata": {
        "id": "ZzVuZ42NKXIU"
      },
      "execution_count": null,
      "outputs": []
    },
    {
      "cell_type": "code",
      "source": [
        "error_df['y_pred'] = error_df['reconstruction_error'].apply(lambda x: 1 if x > optimal_threshold else 0)"
      ],
      "metadata": {
        "id": "9gnJ6jB4KqIJ"
      },
      "execution_count": null,
      "outputs": []
    },
    {
      "cell_type": "code",
      "source": [
        "error_df"
      ],
      "metadata": {
        "colab": {
          "base_uri": "https://localhost:8080/",
          "height": 81
        },
        "id": "x7rb6g3VLTD3",
        "outputId": "4cfb8ff4-b673-49fc-f896-c05fdef38022"
      },
      "execution_count": null,
      "outputs": [
        {
          "output_type": "execute_result",
          "data": {
            "text/plain": [
              "   reconstruction_error  y_pred\n",
              "0                 0.106       1"
            ],
            "text/html": [
              "\n",
              "\n",
              "  <div id=\"df-2415b4a3-77c1-4f97-aea1-52226bcf7b5a\">\n",
              "    <div class=\"colab-df-container\">\n",
              "      <div>\n",
              "<style scoped>\n",
              "    .dataframe tbody tr th:only-of-type {\n",
              "        vertical-align: middle;\n",
              "    }\n",
              "\n",
              "    .dataframe tbody tr th {\n",
              "        vertical-align: top;\n",
              "    }\n",
              "\n",
              "    .dataframe thead th {\n",
              "        text-align: right;\n",
              "    }\n",
              "</style>\n",
              "<table border=\"1\" class=\"dataframe\">\n",
              "  <thead>\n",
              "    <tr style=\"text-align: right;\">\n",
              "      <th></th>\n",
              "      <th>reconstruction_error</th>\n",
              "      <th>y_pred</th>\n",
              "    </tr>\n",
              "  </thead>\n",
              "  <tbody>\n",
              "    <tr>\n",
              "      <th>0</th>\n",
              "      <td>0.106</td>\n",
              "      <td>1</td>\n",
              "    </tr>\n",
              "  </tbody>\n",
              "</table>\n",
              "</div>\n",
              "      <button class=\"colab-df-convert\" onclick=\"convertToInteractive('df-2415b4a3-77c1-4f97-aea1-52226bcf7b5a')\"\n",
              "              title=\"Convert this dataframe to an interactive table.\"\n",
              "              style=\"display:none;\">\n",
              "\n",
              "  <svg xmlns=\"http://www.w3.org/2000/svg\" height=\"24px\"viewBox=\"0 0 24 24\"\n",
              "       width=\"24px\">\n",
              "    <path d=\"M0 0h24v24H0V0z\" fill=\"none\"/>\n",
              "    <path d=\"M18.56 5.44l.94 2.06.94-2.06 2.06-.94-2.06-.94-.94-2.06-.94 2.06-2.06.94zm-11 1L8.5 8.5l.94-2.06 2.06-.94-2.06-.94L8.5 2.5l-.94 2.06-2.06.94zm10 10l.94 2.06.94-2.06 2.06-.94-2.06-.94-.94-2.06-.94 2.06-2.06.94z\"/><path d=\"M17.41 7.96l-1.37-1.37c-.4-.4-.92-.59-1.43-.59-.52 0-1.04.2-1.43.59L10.3 9.45l-7.72 7.72c-.78.78-.78 2.05 0 2.83L4 21.41c.39.39.9.59 1.41.59.51 0 1.02-.2 1.41-.59l7.78-7.78 2.81-2.81c.8-.78.8-2.07 0-2.86zM5.41 20L4 18.59l7.72-7.72 1.47 1.35L5.41 20z\"/>\n",
              "  </svg>\n",
              "      </button>\n",
              "\n",
              "\n",
              "\n",
              "    <div id=\"df-859a6701-bd12-4e40-bf08-5fd0a7d7c42e\">\n",
              "      <button class=\"colab-df-quickchart\" onclick=\"quickchart('df-859a6701-bd12-4e40-bf08-5fd0a7d7c42e')\"\n",
              "              title=\"Suggest charts.\"\n",
              "              style=\"display:none;\">\n",
              "\n",
              "<svg xmlns=\"http://www.w3.org/2000/svg\" height=\"24px\"viewBox=\"0 0 24 24\"\n",
              "     width=\"24px\">\n",
              "    <g>\n",
              "        <path d=\"M19 3H5c-1.1 0-2 .9-2 2v14c0 1.1.9 2 2 2h14c1.1 0 2-.9 2-2V5c0-1.1-.9-2-2-2zM9 17H7v-7h2v7zm4 0h-2V7h2v10zm4 0h-2v-4h2v4z\"/>\n",
              "    </g>\n",
              "</svg>\n",
              "      </button>\n",
              "    </div>\n",
              "\n",
              "<style>\n",
              "  .colab-df-quickchart {\n",
              "    background-color: #E8F0FE;\n",
              "    border: none;\n",
              "    border-radius: 50%;\n",
              "    cursor: pointer;\n",
              "    display: none;\n",
              "    fill: #1967D2;\n",
              "    height: 32px;\n",
              "    padding: 0 0 0 0;\n",
              "    width: 32px;\n",
              "  }\n",
              "\n",
              "  .colab-df-quickchart:hover {\n",
              "    background-color: #E2EBFA;\n",
              "    box-shadow: 0px 1px 2px rgba(60, 64, 67, 0.3), 0px 1px 3px 1px rgba(60, 64, 67, 0.15);\n",
              "    fill: #174EA6;\n",
              "  }\n",
              "\n",
              "  [theme=dark] .colab-df-quickchart {\n",
              "    background-color: #3B4455;\n",
              "    fill: #D2E3FC;\n",
              "  }\n",
              "\n",
              "  [theme=dark] .colab-df-quickchart:hover {\n",
              "    background-color: #434B5C;\n",
              "    box-shadow: 0px 1px 3px 1px rgba(0, 0, 0, 0.15);\n",
              "    filter: drop-shadow(0px 1px 2px rgba(0, 0, 0, 0.3));\n",
              "    fill: #FFFFFF;\n",
              "  }\n",
              "</style>\n",
              "\n",
              "    <script>\n",
              "      async function quickchart(key) {\n",
              "        const containerElement = document.querySelector('#' + key);\n",
              "        const charts = await google.colab.kernel.invokeFunction(\n",
              "            'suggestCharts', [key], {});\n",
              "      }\n",
              "    </script>\n",
              "\n",
              "      <script>\n",
              "\n",
              "function displayQuickchartButton(domScope) {\n",
              "  let quickchartButtonEl =\n",
              "    domScope.querySelector('#df-859a6701-bd12-4e40-bf08-5fd0a7d7c42e button.colab-df-quickchart');\n",
              "  quickchartButtonEl.style.display =\n",
              "    google.colab.kernel.accessAllowed ? 'block' : 'none';\n",
              "}\n",
              "\n",
              "        displayQuickchartButton(document);\n",
              "      </script>\n",
              "      <style>\n",
              "    .colab-df-container {\n",
              "      display:flex;\n",
              "      flex-wrap:wrap;\n",
              "      gap: 12px;\n",
              "    }\n",
              "\n",
              "    .colab-df-convert {\n",
              "      background-color: #E8F0FE;\n",
              "      border: none;\n",
              "      border-radius: 50%;\n",
              "      cursor: pointer;\n",
              "      display: none;\n",
              "      fill: #1967D2;\n",
              "      height: 32px;\n",
              "      padding: 0 0 0 0;\n",
              "      width: 32px;\n",
              "    }\n",
              "\n",
              "    .colab-df-convert:hover {\n",
              "      background-color: #E2EBFA;\n",
              "      box-shadow: 0px 1px 2px rgba(60, 64, 67, 0.3), 0px 1px 3px 1px rgba(60, 64, 67, 0.15);\n",
              "      fill: #174EA6;\n",
              "    }\n",
              "\n",
              "    [theme=dark] .colab-df-convert {\n",
              "      background-color: #3B4455;\n",
              "      fill: #D2E3FC;\n",
              "    }\n",
              "\n",
              "    [theme=dark] .colab-df-convert:hover {\n",
              "      background-color: #434B5C;\n",
              "      box-shadow: 0px 1px 3px 1px rgba(0, 0, 0, 0.15);\n",
              "      filter: drop-shadow(0px 1px 2px rgba(0, 0, 0, 0.3));\n",
              "      fill: #FFFFFF;\n",
              "    }\n",
              "  </style>\n",
              "\n",
              "      <script>\n",
              "        const buttonEl =\n",
              "          document.querySelector('#df-2415b4a3-77c1-4f97-aea1-52226bcf7b5a button.colab-df-convert');\n",
              "        buttonEl.style.display =\n",
              "          google.colab.kernel.accessAllowed ? 'block' : 'none';\n",
              "\n",
              "        async function convertToInteractive(key) {\n",
              "          const element = document.querySelector('#df-2415b4a3-77c1-4f97-aea1-52226bcf7b5a');\n",
              "          const dataTable =\n",
              "            await google.colab.kernel.invokeFunction('convertToInteractive',\n",
              "                                                     [key], {});\n",
              "          if (!dataTable) return;\n",
              "\n",
              "          const docLinkHtml = 'Like what you see? Visit the ' +\n",
              "            '<a target=\"_blank\" href=https://colab.research.google.com/notebooks/data_table.ipynb>data table notebook</a>'\n",
              "            + ' to learn more about interactive tables.';\n",
              "          element.innerHTML = '';\n",
              "          dataTable['output_type'] = 'display_data';\n",
              "          await google.colab.output.renderOutput(dataTable, element);\n",
              "          const docLink = document.createElement('div');\n",
              "          docLink.innerHTML = docLinkHtml;\n",
              "          element.appendChild(docLink);\n",
              "        }\n",
              "      </script>\n",
              "    </div>\n",
              "  </div>\n"
            ]
          },
          "metadata": {},
          "execution_count": 67
        }
      ]
    },
    {
      "cell_type": "markdown",
      "metadata": {
        "id": "cm9Z__Y7MuHj"
      },
      "source": [
        "___\n",
        "\n",
        "<p style=\"text-align: center;\"><img src=\"https://docs.google.com/uc?id=1lY0Uj5R04yMY3-ZppPWxqCr5pvBLYPnV\" class=\"img-fluid\" alt=\"CLRSWY\"></p>\n",
        "\n",
        "___"
      ]
    }
  ],
  "metadata": {
    "colab": {
      "provenance": []
    },
    "kernelspec": {
      "display_name": "Python 3",
      "name": "python3"
    },
    "language_info": {
      "codemirror_mode": {
        "name": "ipython",
        "version": 3
      },
      "file_extension": ".py",
      "mimetype": "text/x-python",
      "name": "python",
      "nbconvert_exporter": "python",
      "pygments_lexer": "ipython3",
      "version": "3.10.9"
    },
    "vscode": {
      "interpreter": {
        "hash": "b91502e98c93ec413571a3c4a71c4e7e2f090119475bdef759aa0802c5125d05"
      }
    }
  },
  "nbformat": 4,
  "nbformat_minor": 0
}